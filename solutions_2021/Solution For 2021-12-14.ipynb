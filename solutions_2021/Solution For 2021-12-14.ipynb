{
 "cells": [
  {
   "cell_type": "code",
   "execution_count": 1,
   "id": "21553c95-c140-46a1-b853-47aede988ec3",
   "metadata": {
    "execution": {
     "iopub.execute_input": "2021-12-22T02:25:01.988359Z",
     "iopub.status.busy": "2021-12-22T02:25:01.988128Z",
     "iopub.status.idle": "2021-12-22T02:25:01.999556Z",
     "shell.execute_reply": "2021-12-22T02:25:01.998931Z",
     "shell.execute_reply.started": "2021-12-22T02:25:01.988339Z"
    },
    "tags": []
   },
   "outputs": [],
   "source": [
    "input_location = \"inputs/input_20211214.txt\"\n",
    "\n",
    "with open(input_location) as f:\n",
    "    data = f.read().splitlines()"
   ]
  },
  {
   "cell_type": "code",
   "execution_count": 2,
   "id": "bcd77363-e26d-496b-831b-1c2d3376688f",
   "metadata": {
    "execution": {
     "iopub.execute_input": "2021-12-22T02:25:02.000550Z",
     "iopub.status.busy": "2021-12-22T02:25:02.000333Z",
     "iopub.status.idle": "2021-12-22T02:25:02.009699Z",
     "shell.execute_reply": "2021-12-22T02:25:02.008918Z",
     "shell.execute_reply.started": "2021-12-22T02:25:02.000532Z"
    },
    "tags": []
   },
   "outputs": [],
   "source": [
    "########## HELPER FUNCTIONS ##########\n",
    "\n",
    "\n",
    "def parse_data(data):\n",
    "    \"\"\"\n",
    "    Parse input string to polymer_input_str (\"NNCB\")\n",
    "    and a reference dictionary of polymers\n",
    "    \"\"\"\n",
    "    input_polymer = data[0]\n",
    "    polymer_dict = {}\n",
    "    for line in data[2:]:\n",
    "        pair, insert_letter = line.split(\" -> \")\n",
    "        polymer_dict[pair] = (pair[0] + insert_letter, insert_letter + pair[1])\n",
    "\n",
    "    return input_polymer, polymer_dict\n",
    "\n",
    "\n",
    "def convert_input_polymer_to_count(input_polymer):\n",
    "    \"\"\"\n",
    "    Given a input_polymer string, output all possible pairs and counts\n",
    "        - Example \"NNCB\" would return\n",
    "            { \"NN\":1, \"NC\":1, \"CB\":1 }\n",
    "    \"\"\"\n",
    "    polymer_counts = {}\n",
    "\n",
    "    for idx in range(len(input_polymer) - 1):\n",
    "        pair = input_polymer[idx : idx + 2]s\n",
    "        if pair in polymer_counts.keys():\n",
    "            polymer_counts[pair] += 1\n",
    "        else:\n",
    "            polymer_counts[pair] = 1\n",
    "\n",
    "    return polymer_counts\n",
    "\n",
    "\n",
    "def polymer_single_step(polymer_counts, polymer_dict):\n",
    "    \"\"\"\n",
    "    Given a polymer_counts dict, use the reference polymer_dict to increase count\n",
    "        - Example input { \"NN\":1, \"NC\":1, \"CB\":1 } would return\n",
    "            {\"NC\":1, \"CN\":1, \"NB\":1, \"BC\":1, \"CH\":1, \"HB\":1}\n",
    "    \"\"\"\n",
    "\n",
    "    new_polymer_counts = {}\n",
    "\n",
    "    for pair, count in polymer_counts.items():\n",
    "        to_add = polymer_dict[pair]\n",
    "\n",
    "        for new_pair in to_add:\n",
    "            if new_pair in new_polymer_counts:\n",
    "                new_polymer_counts[new_pair] += count\n",
    "            else:\n",
    "                new_polymer_counts[new_pair] = count\n",
    "\n",
    "    return new_polymer_counts"
   ]
  },
  {
   "cell_type": "code",
   "execution_count": 3,
   "id": "56382320-e86e-4fb7-9d76-2d8bfd99ae1b",
   "metadata": {
    "execution": {
     "iopub.execute_input": "2021-12-22T02:25:02.011066Z",
     "iopub.status.busy": "2021-12-22T02:25:02.010772Z",
     "iopub.status.idle": "2021-12-22T02:25:02.019351Z",
     "shell.execute_reply": "2021-12-22T02:25:02.018151Z",
     "shell.execute_reply.started": "2021-12-22T02:25:02.011045Z"
    },
    "tags": []
   },
   "outputs": [],
   "source": [
    "########## SOLUTION ##########\n",
    "\n",
    "\n",
    "def solution_1(data, steps):\n",
    "    input_polymer, polymer_dict = parse_data(data)\n",
    "\n",
    "    polymer_counts = convert_input_polymer_to_count(input_polymer)\n",
    "\n",
    "    for i in range(steps):\n",
    "        polymer_counts = polymer_single_step(polymer_counts, polymer_dict)\n",
    "\n",
    "    # the polymer_counts is dictionary of PAIRS and counts, for the actual answer we need to CHARACTER    \n",
    "    final_count = {}\n",
    "\n",
    "    for pair, count in polymer_counts.items():\n",
    "        for char in pair:\n",
    "            if char in final_count:\n",
    "                final_count[char] += count\n",
    "            else:\n",
    "                final_count[char] = count\n",
    "\n",
    "    # because of the overlapping nature of counting pairs,.. every character is double-counted EXCEPT\n",
    "    # for the first and last character. so we want to increase those by +1, and THEN divide by 2\n",
    "    first_char, last_char = input_polymer[0], input_polymer[-1]\n",
    "\n",
    "    final_count[first_char] += 1\n",
    "    final_count[last_char] += 1\n",
    "\n",
    "    for char in final_count:\n",
    "        final_count[char] = final_count[char] / 2\n",
    "\n",
    "    most_common = max(final_count.values())\n",
    "    least_common = min(final_count.values())\n",
    "\n",
    "    return int(most_common - least_common)"
   ]
  },
  {
   "cell_type": "code",
   "execution_count": 4,
   "id": "609565fa-b3c8-4939-8cd6-15f0725611aa",
   "metadata": {
    "execution": {
     "iopub.execute_input": "2021-12-22T02:25:02.020902Z",
     "iopub.status.busy": "2021-12-22T02:25:02.020638Z",
     "iopub.status.idle": "2021-12-22T02:25:02.026106Z",
     "shell.execute_reply": "2021-12-22T02:25:02.025399Z",
     "shell.execute_reply.started": "2021-12-22T02:25:02.020876Z"
    },
    "tags": []
   },
   "outputs": [
    {
     "name": "stdout",
     "output_type": "stream",
     "text": [
      "2967\n",
      "3692219987038\n"
     ]
    }
   ],
   "source": [
    "########## OUTPUT ##########\n",
    "\n",
    "print(solution_1(data, 10))  # 2967\n",
    "print(solution_1(data, 40))  # 3692219987038"
   ]
  }
 ],
 "metadata": {
  "kernelspec": {
   "display_name": "sally_gg",
   "language": "python",
   "name": "sally_gg"
  },
  "language_info": {
   "codemirror_mode": {
    "name": "ipython",
    "version": 3
   },
   "file_extension": ".py",
   "mimetype": "text/x-python",
   "name": "python",
   "nbconvert_exporter": "python",
   "pygments_lexer": "ipython3",
   "version": "3.9.6"
  },
  "widgets": {
   "application/vnd.jupyter.widget-state+json": {
    "state": {},
    "version_major": 2,
    "version_minor": 0
   }
  }
 },
 "nbformat": 4,
 "nbformat_minor": 5
}
