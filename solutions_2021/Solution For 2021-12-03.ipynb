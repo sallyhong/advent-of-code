{
 "cells": [
  {
   "cell_type": "code",
   "execution_count": 1,
   "id": "21553c95-c140-46a1-b853-47aede988ec3",
   "metadata": {
    "execution": {
     "iopub.execute_input": "2021-12-03T19:49:17.143677Z",
     "iopub.status.busy": "2021-12-03T19:49:17.142361Z",
     "iopub.status.idle": "2021-12-03T19:49:17.153832Z",
     "shell.execute_reply": "2021-12-03T19:49:17.152794Z",
     "shell.execute_reply.started": "2021-12-03T19:49:17.143634Z"
    },
    "tags": []
   },
   "outputs": [],
   "source": [
    "input_location = \"inputs/input_20211203.txt\"\n",
    "\n",
    "with open(input_location) as f:\n",
    "    data = f.read().splitlines()"
   ]
  },
  {
   "cell_type": "code",
   "execution_count": 2,
   "id": "2f78800b-0e16-4053-a1fc-928f843e3d59",
   "metadata": {
    "execution": {
     "iopub.execute_input": "2021-12-03T19:49:17.156481Z",
     "iopub.status.busy": "2021-12-03T19:49:17.155287Z",
     "iopub.status.idle": "2021-12-03T19:49:17.171897Z",
     "shell.execute_reply": "2021-12-03T19:49:17.171153Z",
     "shell.execute_reply.started": "2021-12-03T19:49:17.156440Z"
    },
    "tags": []
   },
   "outputs": [],
   "source": [
    "def flip_bit(bit_str):\n",
    "    flipped_bit_str = \"\".join([\"0\" if i==\"1\" else \"1\" for i in bit_str])\n",
    "    return flipped_bit_str\n",
    "\n",
    "def solution_1(data):\n",
    "    gamma_bit_rate = \"\"\n",
    "    single_bit_length = len(data[0])\n",
    "    \n",
    "    for i in range(single_bit_length):\n",
    "        column_sum = sum([int(row[i]) for row in data])\n",
    "        if column_sum > (len(data)/2):\n",
    "            gamma_bit_rate += \"1\"\n",
    "        else:\n",
    "            gamma_bit_rate += \"0\"\n",
    "\n",
    "    gamma_int = int(gamma_bit_rate, 2)\n",
    "    epsilon_int = int(flip_bit(gamma_bit_rate), 2)\n",
    "            \n",
    "    return gamma_int * epsilon_int\n",
    "\n",
    "def solution_2(data):\n",
    "    single_bit_length = len(data[0])\n",
    "    filtered_data_oxygen = data.copy()\n",
    "    filtered_data_co2 = data.copy()\n",
    "    \n",
    "    # for oxygen\n",
    "    for i in range(single_bit_length):\n",
    "        column_sum_oxygen = sum([int(row[i]) for row in filtered_data_oxygen])\n",
    "        common_bit_oxygen = \"1\" if column_sum_oxygen >= (len(filtered_data_oxygen)/2) else \"0\"\n",
    "        filtered_data_oxygen = [row for row in filtered_data_oxygen if row[i]==common_bit_oxygen]\n",
    "        \n",
    "        if len(filtered_data_oxygen) == 1:\n",
    "            oxygen_int = int(filtered_data_oxygen[0], 2)\n",
    "            break\n",
    "            \n",
    "    # for co2\n",
    "    for i in range(single_bit_length):\n",
    "        column_sum_co2 = sum([int(row[i]) for row in filtered_data_co2])\n",
    "        common_bit_co2 = \"1\" if column_sum_co2 >= (len(filtered_data_co2)/2) else \"0\"\n",
    "        filtered_data_co2 = [row for row in filtered_data_co2 if row[i]!=common_bit_co2]\n",
    "        \n",
    "        if len(filtered_data_co2)==1:\n",
    "            co2_int = int(filtered_data_co2[0], 2)\n",
    "            break\n",
    "\n",
    "    return oxygen_int * co2_int"
   ]
  },
  {
   "cell_type": "code",
   "execution_count": 3,
   "id": "bba228fc-c79f-459b-b923-d775df45a2be",
   "metadata": {
    "execution": {
     "iopub.execute_input": "2021-12-03T19:49:17.173931Z",
     "iopub.status.busy": "2021-12-03T19:49:17.173235Z",
     "iopub.status.idle": "2021-12-03T19:49:17.202159Z",
     "shell.execute_reply": "2021-12-03T19:49:17.190365Z",
     "shell.execute_reply.started": "2021-12-03T19:49:17.173896Z"
    },
    "tags": []
   },
   "outputs": [
    {
     "name": "stdout",
     "output_type": "stream",
     "text": [
      "2640986\n",
      "6822109\n"
     ]
    }
   ],
   "source": [
    "print(solution_1(data)) #2640986\n",
    "print(solution_2(data)) #6822109"
   ]
  }
 ],
 "metadata": {
  "kernelspec": {
   "display_name": "sally_gg",
   "language": "python",
   "name": "sally_gg"
  },
  "language_info": {
   "codemirror_mode": {
    "name": "ipython",
    "version": 3
   },
   "file_extension": ".py",
   "mimetype": "text/x-python",
   "name": "python",
   "nbconvert_exporter": "python",
   "pygments_lexer": "ipython3",
   "version": "3.9.6"
  },
  "widgets": {
   "application/vnd.jupyter.widget-state+json": {
    "state": {},
    "version_major": 2,
    "version_minor": 0
   }
  }
 },
 "nbformat": 4,
 "nbformat_minor": 5
}
