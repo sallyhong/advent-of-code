{
 "cells": [
  {
   "cell_type": "code",
   "execution_count": 1,
   "id": "21553c95-c140-46a1-b853-47aede988ec3",
   "metadata": {
    "execution": {
     "iopub.execute_input": "2021-12-16T05:57:12.246125Z",
     "iopub.status.busy": "2021-12-16T05:57:12.245916Z",
     "iopub.status.idle": "2021-12-16T05:57:12.249292Z",
     "shell.execute_reply": "2021-12-16T05:57:12.248754Z",
     "shell.execute_reply.started": "2021-12-16T05:57:12.246107Z"
    },
    "tags": []
   },
   "outputs": [],
   "source": [
    "input_location = \"inputs/input_20211216.txt\"\n",
    "\n",
    "with open(input_location) as f:\n",
    "    data = f.read().splitlines()"
   ]
  },
  {
   "cell_type": "code",
   "execution_count": 2,
   "id": "8c90239b-4e02-4a03-8e13-d31a984d9667",
   "metadata": {
    "execution": {
     "iopub.execute_input": "2021-12-16T05:57:15.199042Z",
     "iopub.status.busy": "2021-12-16T05:57:15.198815Z",
     "iopub.status.idle": "2021-12-16T05:57:15.203045Z",
     "shell.execute_reply": "2021-12-16T05:57:15.202176Z",
     "shell.execute_reply.started": "2021-12-16T05:57:15.199025Z"
    }
   },
   "outputs": [
    {
     "data": {
      "text/plain": [
       "['005532447836402684AC7AB3801A800021F0961146B1007A1147C89440294D005C12D2A7BC992D3F4E50C72CDF29EECFD0ACD5CC016962099194002CE31C5D3005F401296CAF4B656A46B2DE5588015C913D8653A3A001B9C3C93D7AC672F4FF78C136532E6E0007FCDFA975A3004B002E69EC4FD2D32CDF3FFDDAF01C91FCA7B41700263818025A00B48DEF3DFB89D26C3281A200F4C5AF57582527BC1890042DE00B4B324DBA4FAFCE473EF7CC0802B59DA28580212B3BD99A78C8004EC300761DC128EE40086C4F8E50F0C01882D0FE29900A01C01C2C96F38FCBB3E18C96F38FCBB3E1BCC57E2AA0154EDEC45096712A64A2520C6401A9E80213D98562653D98562612A06C0143CB03C529B5D9FD87CBA64F88CA439EC5BB299718023800D3CE7A935F9EA884F5EFAE9E10079125AF39E80212330F93EC7DAD7A9D5C4002A24A806A0062019B6600730173640575A0147C60070011FCA005000F7080385800CBEE006800A30C023520077A401840004BAC00D7A001FB31AAD10CC016923DA00686769E019DA780D0022394854167C2A56FB75200D33801F696D5B922F98B68B64E02460054CAE900949401BB80021D0562344E00042A16C6B8253000600B78020200E44386B068401E8391661C4E14B804D3B6B27CFE98E73BCF55B65762C402768803F09620419100661EC2A8CE0008741A83917CC024970D9E718DD341640259D80200008444D8F713C401D88310E2EC9F20F3330E059009118019A8803F12A0FC6E1006E3744183D27312200D4AC01693F5A131C93F5A131C970D6008867379CD3221289B13D402492EE377917CACEDB3695AD61C939C7C10082597E3740E857396499EA31980293F4FD206B40123CEE27CFB64D5E57B9ACC7F993D9495444001C998E66B50896B0B90050D34DF3295289128E73070E00A4E7A389224323005E801049351952694C000']"
      ]
     },
     "execution_count": 2,
     "metadata": {},
     "output_type": "execute_result"
    }
   ],
   "source": [
    "data"
   ]
  },
  {
   "cell_type": "code",
   "execution_count": 3,
   "id": "cb368225-272a-424a-92ac-e124b61070bf",
   "metadata": {
    "execution": {
     "iopub.execute_input": "2021-12-16T05:59:45.063962Z",
     "iopub.status.busy": "2021-12-16T05:59:45.063751Z",
     "iopub.status.idle": "2021-12-16T05:59:45.067897Z",
     "shell.execute_reply": "2021-12-16T05:59:45.067221Z",
     "shell.execute_reply.started": "2021-12-16T05:59:45.063945Z"
    }
   },
   "outputs": [],
   "source": [
    "hex_char_to_bits_dict = {\n",
    "    \"0\" : \"0000\",\n",
    "    \"1\" : \"0001\",\n",
    "    \"2\" : \"0010\",\n",
    "    \"3\" : \"0011\",\n",
    "    \"4\" : \"0100\",\n",
    "    \"5\" : \"0101\",\n",
    "    \"6\" : \"0110\",\n",
    "    \"7\" : \"0111\",\n",
    "    \"8\" : \"1000\",\n",
    "    \"9\" : \"1001\",\n",
    "    \"A\" : \"1010\",\n",
    "    \"B\" : \"1011\",\n",
    "    \"C\" : \"1100\",\n",
    "    \"D\" : \"1101\",\n",
    "    \"E\" : \"1110\",\n",
    "    \"F\" : \"1111\",\n",
    "}"
   ]
  },
  {
   "cell_type": "code",
   "execution_count": 6,
   "id": "71daafc8-f68e-4d9d-886c-7c33ea6df58b",
   "metadata": {
    "execution": {
     "iopub.execute_input": "2021-12-16T06:01:11.018895Z",
     "iopub.status.busy": "2021-12-16T06:01:11.018701Z",
     "iopub.status.idle": "2021-12-16T06:01:11.022196Z",
     "shell.execute_reply": "2021-12-16T06:01:11.021474Z",
     "shell.execute_reply.started": "2021-12-16T06:01:11.018877Z"
    },
    "tags": []
   },
   "outputs": [],
   "source": [
    "def convert_hex_to_bits(hex_str):\n",
    "    bit_str = \"\"\n",
    "    for hex_char in hex_str:\n",
    "        bit_str += hex_char_to_bits_dict[hex_char]\n",
    "    return bit_str"
   ]
  },
  {
   "cell_type": "code",
   "execution_count": 7,
   "id": "968d6849-25be-4f8e-9990-4e15431831cf",
   "metadata": {
    "execution": {
     "iopub.execute_input": "2021-12-16T06:01:11.252395Z",
     "iopub.status.busy": "2021-12-16T06:01:11.252202Z",
     "iopub.status.idle": "2021-12-16T06:01:11.256771Z",
     "shell.execute_reply": "2021-12-16T06:01:11.256148Z",
     "shell.execute_reply.started": "2021-12-16T06:01:11.252377Z"
    },
    "tags": []
   },
   "outputs": [
    {
     "data": {
      "text/plain": [
       "'110100101111111000101000'"
      ]
     },
     "execution_count": 7,
     "metadata": {},
     "output_type": "execute_result"
    }
   ],
   "source": [
    "convert_hex_to_bits(\"D2FE28\")"
   ]
  },
  {
   "cell_type": "code",
   "execution_count": 2,
   "id": "a72f5ebd-1977-4b28-9bef-be6d8699f507",
   "metadata": {
    "execution": {
     "iopub.execute_input": "2021-12-16T05:47:19.229629Z",
     "iopub.status.busy": "2021-12-16T05:47:19.229396Z",
     "iopub.status.idle": "2021-12-16T05:47:19.241790Z",
     "shell.execute_reply": "2021-12-16T05:47:19.241063Z",
     "shell.execute_reply.started": "2021-12-16T05:47:19.229610Z"
    },
    "tags": []
   },
   "outputs": [],
   "source": [
    "########## HELPER FUNCTIONS ##########\n",
    "\n",
    "\n",
    "def pad_map(data, i=float(\"-inf\")):\n",
    "    \"\"\"\n",
    "    Pads the heatmap with -inf's at the top and bottom and sides with -inf's\n",
    "    \"\"\"\n",
    "    padded_map = []\n",
    "    for row in data:\n",
    "        padded_row = [i] + row + [i]\n",
    "        padded_map.append(padded_row)\n",
    "    top_bottom_rows = [i] * len(padded_map[0])\n",
    "    padded_map.insert(0, top_bottom_rows)\n",
    "    padded_map.append(top_bottom_rows)\n",
    "\n",
    "    return padded_map\n",
    "\n",
    "\n",
    "def convert_data_to_map(data):\n",
    "    fish_map = []\n",
    "    for row in data:\n",
    "        cleaned_row = [int(x) for x in row]\n",
    "        fish_map.append(cleaned_row)\n",
    "\n",
    "    padded_fish_map = pad_map(fish_map)\n",
    "    return padded_fish_map\n",
    "\n",
    "\n",
    "def return_adjacent_coordinates(base_coordinate):\n",
    "    \"\"\"\n",
    "    Given a coorindate (x,y) return all the coordinates that are adjacent to it\n",
    "    \"\"\"\n",
    "    x, y = base_coordinate\n",
    "    adjacent_coordinates = []\n",
    "    for i in range(-1, 2):\n",
    "        for j in range(-1, 2):\n",
    "            # do not add for coordinate\n",
    "            if i == 0 and j == 0:\n",
    "                continue\n",
    "            adjacent_coordinates.append((x + i, y + j))\n",
    "    return adjacent_coordinates\n",
    "\n",
    "\n",
    "def process_single_step(fish_map):\n",
    "    \"\"\"\n",
    "    Mechanics for running a single step\n",
    "    \"\"\"\n",
    "    for x in range(1, len(fish_map) - 1):\n",
    "        for y in range(1, len(fish_map) - 1):\n",
    "            fish_map[x][y] += 1\n",
    "\n",
    "    flashes_remaining = True\n",
    "    flash_count = 0\n",
    "\n",
    "    # basically loop through the fish_map for that step until there are no other changes\n",
    "    while flashes_remaining:\n",
    "        fish_map_copy = [fish_row[:] for fish_row in fish_map]  # keep reference\n",
    "\n",
    "        for x in range(1, len(fish_map) - 1):\n",
    "            for y in range(1, len(fish_map) - 1):\n",
    "                single_oct_energy = fish_map[x][y]\n",
    "                if single_oct_energy >= 10:\n",
    "                    # get all the adjacent coordinates and increase by 1\n",
    "                    adjacent_coordinates = return_adjacent_coordinates((x, y))\n",
    "                    for adjacent_oct_coordinates in adjacent_coordinates:\n",
    "                        adj_x, adj_y = adjacent_oct_coordinates\n",
    "                        adjacent_oct_energy = fish_map[adj_x][adj_y]\n",
    "                        if adjacent_oct_energy > 0:  # basically leave alone if it's -inf or 0\n",
    "                            fish_map[adj_x][adj_y] += 1\n",
    "                    fish_map[x][y] = 0\n",
    "                    flash_count += 1\n",
    "\n",
    "        # no further updates means excit out of the loop\n",
    "        if fish_map_copy == fish_map:\n",
    "            flashes_remaining = False\n",
    "\n",
    "    return (fish_map, flash_count)"
   ]
  },
  {
   "cell_type": "code",
   "execution_count": 3,
   "id": "7ec29b10-d6b1-441e-bfab-ea09ae4a652c",
   "metadata": {
    "execution": {
     "iopub.execute_input": "2021-12-16T05:47:19.243024Z",
     "iopub.status.busy": "2021-12-16T05:47:19.242785Z",
     "iopub.status.idle": "2021-12-16T05:47:19.246926Z",
     "shell.execute_reply": "2021-12-16T05:47:19.246328Z",
     "shell.execute_reply.started": "2021-12-16T05:47:19.243004Z"
    },
    "tags": []
   },
   "outputs": [],
   "source": [
    "########## SOLUTION ##########\n",
    "\n",
    "\n",
    "def solution_1(data, days):\n",
    "    fish_map = convert_data_to_map(data)\n",
    "    total_flash_counts = 0\n",
    "\n",
    "    for i in range(1, days + 1):\n",
    "        fish_map, flash_count = process_single_step(fish_map)\n",
    "        total_flash_counts += flash_count\n",
    "\n",
    "    return total_flash_counts\n",
    "\n",
    "\n",
    "def solution_2(data):\n",
    "    fish_map = convert_data_to_map(data)\n",
    "    flash_count, steps = 0, 0\n",
    "\n",
    "    # basically keep running until there are total of 100 flashes\n",
    "    while flash_count < 100:\n",
    "        fish_map, flash_count = process_single_step(fish_map)\n",
    "        steps += 1\n",
    "\n",
    "    return steps"
   ]
  },
  {
   "cell_type": "code",
   "execution_count": 4,
   "id": "7fe6f85b-d94d-4ca3-9e68-5e7bb26ffa69",
   "metadata": {
    "execution": {
     "iopub.execute_input": "2021-12-16T05:47:19.248314Z",
     "iopub.status.busy": "2021-12-16T05:47:19.247954Z",
     "iopub.status.idle": "2021-12-16T05:47:19.289007Z",
     "shell.execute_reply": "2021-12-16T05:47:19.288535Z",
     "shell.execute_reply.started": "2021-12-16T05:47:19.248295Z"
    },
    "tags": []
   },
   "outputs": [
    {
     "name": "stdout",
     "output_type": "stream",
     "text": [
      "1644\n",
      "229\n"
     ]
    }
   ],
   "source": [
    "########## OUTPUT ##########\n",
    "\n",
    "print(solution_1(data, 100))  # 1644\n",
    "print(solution_2(data))  # 229"
   ]
  }
 ],
 "metadata": {
  "kernelspec": {
   "display_name": "sally_gg",
   "language": "python",
   "name": "sally_gg"
  },
  "language_info": {
   "codemirror_mode": {
    "name": "ipython",
    "version": 3
   },
   "file_extension": ".py",
   "mimetype": "text/x-python",
   "name": "python",
   "nbconvert_exporter": "python",
   "pygments_lexer": "ipython3",
   "version": "3.9.6"
  },
  "widgets": {
   "application/vnd.jupyter.widget-state+json": {
    "state": {},
    "version_major": 2,
    "version_minor": 0
   }
  }
 },
 "nbformat": 4,
 "nbformat_minor": 5
}
