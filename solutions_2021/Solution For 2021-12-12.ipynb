{
 "cells": [
  {
   "cell_type": "code",
   "execution_count": 1,
   "id": "21553c95-c140-46a1-b853-47aede988ec3",
   "metadata": {
    "execution": {
     "iopub.execute_input": "2021-12-21T19:44:45.636864Z",
     "iopub.status.busy": "2021-12-21T19:44:45.636586Z",
     "iopub.status.idle": "2021-12-21T19:44:45.642458Z",
     "shell.execute_reply": "2021-12-21T19:44:45.641682Z",
     "shell.execute_reply.started": "2021-12-21T19:44:45.636841Z"
    },
    "tags": []
   },
   "outputs": [],
   "source": [
    "input_location = \"inputs/input_20211212.txt\"\n",
    "\n",
    "with open(input_location) as f:\n",
    "    data = f.read().splitlines()"
   ]
  },
  {
   "cell_type": "code",
   "execution_count": 2,
   "id": "09ddce11-aa1e-459b-b2e5-7dc4b2b60472",
   "metadata": {
    "execution": {
     "iopub.execute_input": "2021-12-21T19:44:45.644597Z",
     "iopub.status.busy": "2021-12-21T19:44:45.643471Z",
     "iopub.status.idle": "2021-12-21T19:44:45.647805Z",
     "shell.execute_reply": "2021-12-21T19:44:45.647294Z",
     "shell.execute_reply.started": "2021-12-21T19:44:45.644543Z"
    },
    "tags": []
   },
   "outputs": [],
   "source": [
    "from collections import Counter, deque"
   ]
  },
  {
   "cell_type": "code",
   "execution_count": 3,
   "id": "db059e5f-3df9-4ed7-8d22-cb678bd8d1dd",
   "metadata": {
    "execution": {
     "iopub.execute_input": "2021-12-21T19:44:45.651231Z",
     "iopub.status.busy": "2021-12-21T19:44:45.649058Z",
     "iopub.status.idle": "2021-12-21T19:44:45.664602Z",
     "shell.execute_reply": "2021-12-21T19:44:45.663229Z",
     "shell.execute_reply.started": "2021-12-21T19:44:45.651198Z"
    },
    "tags": []
   },
   "outputs": [],
   "source": [
    "########## HELPER FUNCTIONS ##########\n",
    "\n",
    "\n",
    "def create_dict_set_from_data(data):\n",
    "    \"\"\"Outputs a dictionary where key is one point, and the value is all possible caves from that first point\"\"\"\n",
    "    path_dict = {}\n",
    "\n",
    "    for pair in data:\n",
    "        a, b = pair.split(\"-\")\n",
    "\n",
    "        if a not in path_dict:\n",
    "            path_dict[a] = [b]\n",
    "        else:\n",
    "            if b not in path_dict[a]:\n",
    "                path_dict[a].append(b)\n",
    "\n",
    "        # flip pair\n",
    "        if a != \"start\" and b != \"end\":\n",
    "            if b not in path_dict:\n",
    "                path_dict[b] = [a]\n",
    "            else:\n",
    "                if a not in path_dict[b]:\n",
    "                    path_dict[b].append(a)\n",
    "\n",
    "    for first_point, second_points in path_dict.items():\n",
    "        path_dict[first_point] = [point for point in second_points if point != \"start\"]\n",
    "\n",
    "    return path_dict\n",
    "\n",
    "\n",
    "def small_caves_multiple_visit(path_list, small_cave_limit):\n",
    "    \"\"\"Returns True if there are multiple visits to a single small cave\"\"\"\n",
    "    path_list = [point for point in path_list if point not in (\"end\") and point == point.lower()]\n",
    "    small_caves = Counter(path_list)\n",
    "\n",
    "    two_visits = 0\n",
    "\n",
    "    for cave, count in small_caves.items():\n",
    "        if count == 2:\n",
    "            two_visits += 1\n",
    "            if two_visits > small_cave_limit:\n",
    "                return True\n",
    "        elif count > 2:\n",
    "            return True\n",
    "    return False\n",
    "\n",
    "\n",
    "def return_all_paths(path_dict, small_cave_limit):\n",
    "    complete_paths = []\n",
    "    to_check = deque()\n",
    "\n",
    "    # add paths that begin with \"start\" first to to_check\n",
    "    for second_point in path_dict[\"start\"]:\n",
    "        to_check.append([\"start\", second_point])\n",
    "\n",
    "    while to_check:\n",
    "        current_path = to_check.popleft()\n",
    "        for second_point in path_dict[current_path[-1]]:\n",
    "            new_path = current_path.copy()\n",
    "            new_path.append(second_point)\n",
    "\n",
    "            if second_point == \"end\":\n",
    "                complete_paths.append(new_path)\n",
    "            elif small_caves_multiple_visit(new_path, small_cave_limit):\n",
    "                continue\n",
    "            else:\n",
    "                to_check.append(new_path)\n",
    "\n",
    "    return complete_paths"
   ]
  },
  {
   "cell_type": "code",
   "execution_count": 4,
   "id": "a5cd104e-d6a7-46d6-b478-40eb6f784055",
   "metadata": {
    "execution": {
     "iopub.execute_input": "2021-12-21T19:44:45.665545Z",
     "iopub.status.busy": "2021-12-21T19:44:45.665371Z",
     "iopub.status.idle": "2021-12-21T19:44:45.668604Z",
     "shell.execute_reply": "2021-12-21T19:44:45.668041Z",
     "shell.execute_reply.started": "2021-12-21T19:44:45.665528Z"
    },
    "tags": []
   },
   "outputs": [],
   "source": [
    "########## SOLUTION ##########\n",
    "\n",
    "\n",
    "def solution_1_and_2(data, small_cave_limit):\n",
    "    \"\"\"\n",
    "    small_cave_limits = number of caves that can have 2 visits\n",
    "    \"\"\"\n",
    "    path_dict = create_dict_set_from_data(data)\n",
    "    all_paths = return_all_paths(path_dict, small_cave_limit)\n",
    "\n",
    "    return len(all_paths)"
   ]
  },
  {
   "cell_type": "code",
   "execution_count": 5,
   "id": "2f0fa835-191e-4415-9606-182987c8ee37",
   "metadata": {
    "execution": {
     "iopub.execute_input": "2021-12-21T19:44:45.669586Z",
     "iopub.status.busy": "2021-12-21T19:44:45.669362Z",
     "iopub.status.idle": "2021-12-21T19:44:52.044540Z",
     "shell.execute_reply": "2021-12-21T19:44:52.044075Z",
     "shell.execute_reply.started": "2021-12-21T19:44:45.669571Z"
    },
    "tags": []
   },
   "outputs": [
    {
     "name": "stdout",
     "output_type": "stream",
     "text": [
      "5157\n",
      "144309\n"
     ]
    }
   ],
   "source": [
    "########## OUTPUT ##########\n",
    "\n",
    "print(solution_1_and_2(data, 0))  # 5157\n",
    "print(solution_1_and_2(data, 1))  # 144309"
   ]
  }
 ],
 "metadata": {
  "kernelspec": {
   "display_name": "sally_gg",
   "language": "python",
   "name": "sally_gg"
  },
  "language_info": {
   "codemirror_mode": {
    "name": "ipython",
    "version": 3
   },
   "file_extension": ".py",
   "mimetype": "text/x-python",
   "name": "python",
   "nbconvert_exporter": "python",
   "pygments_lexer": "ipython3",
   "version": "3.9.6"
  },
  "widgets": {
   "application/vnd.jupyter.widget-state+json": {
    "state": {},
    "version_major": 2,
    "version_minor": 0
   }
  }
 },
 "nbformat": 4,
 "nbformat_minor": 5
}
