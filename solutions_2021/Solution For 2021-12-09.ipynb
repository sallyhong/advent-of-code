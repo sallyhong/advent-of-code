{
 "cells": [
  {
   "cell_type": "code",
   "execution_count": 1,
   "id": "21553c95-c140-46a1-b853-47aede988ec3",
   "metadata": {
    "execution": {
     "iopub.execute_input": "2021-12-15T22:04:01.207344Z",
     "iopub.status.busy": "2021-12-15T22:04:01.207138Z",
     "iopub.status.idle": "2021-12-15T22:04:01.215664Z",
     "shell.execute_reply": "2021-12-15T22:04:01.212422Z",
     "shell.execute_reply.started": "2021-12-15T22:04:01.207327Z"
    },
    "tags": []
   },
   "outputs": [],
   "source": [
    "input_location = \"inputs/input_20211209.txt\"\n",
    "\n",
    "with open(input_location) as f:\n",
    "    data = f.read().splitlines()"
   ]
  },
  {
   "cell_type": "code",
   "execution_count": 2,
   "id": "c427a068-efad-4de6-9d34-6ec93f384c6c",
   "metadata": {
    "execution": {
     "iopub.execute_input": "2021-12-15T22:04:01.218730Z",
     "iopub.status.busy": "2021-12-15T22:04:01.218135Z",
     "iopub.status.idle": "2021-12-15T22:04:01.225180Z",
     "shell.execute_reply": "2021-12-15T22:04:01.224412Z",
     "shell.execute_reply.started": "2021-12-15T22:04:01.218693Z"
    },
    "tags": []
   },
   "outputs": [],
   "source": [
    "def clean_data(data):\n",
    "    cleaned_data = []\n",
    "    for row in data:\n",
    "        cleaned_row = [int(x) for x in row]\n",
    "        cleaned_data.append(cleaned_row)\n",
    "    return cleaned_data\n",
    "\n",
    "cleaned_data = clean_data(data)"
   ]
  },
  {
   "cell_type": "code",
   "execution_count": 3,
   "id": "850a2a99-d8e0-41e1-bca8-764c32209b0f",
   "metadata": {
    "execution": {
     "iopub.execute_input": "2021-12-15T22:04:01.226168Z",
     "iopub.status.busy": "2021-12-15T22:04:01.225918Z",
     "iopub.status.idle": "2021-12-15T22:04:01.232096Z",
     "shell.execute_reply": "2021-12-15T22:04:01.230883Z",
     "shell.execute_reply.started": "2021-12-15T22:04:01.226151Z"
    },
    "tags": []
   },
   "outputs": [],
   "source": [
    "def pad_heatmap(data, i=9):\n",
    "    \"\"\"\n",
    "    Pads the heatmap with 9's at the top and bottom and sides with 9's\n",
    "    \"\"\"\n",
    "    padded_heatmap = []\n",
    "    for row in data:\n",
    "        padded_row = [i] + row + [i]\n",
    "        padded_heatmap.append(padded_row)\n",
    "    top_bottom_rows = [i] * len(padded_heatmap[0])\n",
    "    padded_heatmap.insert(0, top_bottom_rows)\n",
    "    padded_heatmap.append(top_bottom_rows)\n",
    "    return padded_heatmap\n",
    "\n",
    "def get_low_points(heatmap):\n",
    "    \"\"\"\n",
    "    Returns a dictionary where \n",
    "    - key : coordinate\n",
    "    - value : height\n",
    "    \"\"\"\n",
    "    low_points = {}\n",
    "    for x in range(1, len(heatmap)-1):\n",
    "        for y in range(1, len(heatmap[0])-1):\n",
    "            middle = heatmap[x][y]\n",
    "            up, down = heatmap[x][y+1], heatmap[x][y-1]\n",
    "            left, right = heatmap[x-1][y], heatmap[x+1][y]\n",
    "            \n",
    "            if middle < min(up, down, left, right):\n",
    "                low_points[(x,y)] = middle\n",
    "    return low_points\n",
    "\n"
   ]
  },
  {
   "cell_type": "code",
   "execution_count": 4,
   "id": "9d013a74-4879-4fe6-a567-9779e6016245",
   "metadata": {
    "execution": {
     "iopub.execute_input": "2021-12-15T22:04:01.233804Z",
     "iopub.status.busy": "2021-12-15T22:04:01.233408Z",
     "iopub.status.idle": "2021-12-15T22:04:01.246015Z",
     "shell.execute_reply": "2021-12-15T22:04:01.243363Z",
     "shell.execute_reply.started": "2021-12-15T22:04:01.233776Z"
    },
    "tags": []
   },
   "outputs": [],
   "source": [
    "from collections import deque\n",
    "\n",
    "def get_basin_count(low_point_coordinate, heatmap):\n",
    "    checked = []\n",
    "    to_check = deque([low_point_coordinate])\n",
    "    \n",
    "    while to_check:\n",
    "        x, y = to_check.popleft()\n",
    "        up, down = (x, y+1), (x, y-1)\n",
    "        left, right = (x-1, y), (x+1 ,y)\n",
    "\n",
    "        for coordinate in [up, down, left, right]:\n",
    "            height = heatmap[coordinate[0]][coordinate[1]]\n",
    "            if height < 9 and coordinate not in checked:\n",
    "                to_check.append(coordinate)\n",
    "\n",
    "        checked.append((x,y))\n",
    "    \n",
    "    return len(set(checked))"
   ]
  },
  {
   "cell_type": "code",
   "execution_count": 5,
   "id": "03b7558a-4ccb-430f-9fe6-ad764e7a5c40",
   "metadata": {
    "execution": {
     "iopub.execute_input": "2021-12-15T22:04:01.247109Z",
     "iopub.status.busy": "2021-12-15T22:04:01.246921Z",
     "iopub.status.idle": "2021-12-15T22:04:01.253070Z",
     "shell.execute_reply": "2021-12-15T22:04:01.250746Z",
     "shell.execute_reply.started": "2021-12-15T22:04:01.247086Z"
    },
    "tags": []
   },
   "outputs": [],
   "source": [
    "def solution_1(data):\n",
    "    padded_heatmap = pad_heatmap(data)\n",
    "    low_points = get_low_points(padded_heatmap)\n",
    "    \n",
    "    return sum(low_points.values())+len(low_points)\n",
    "\n",
    "def solution_2(data):\n",
    "    padded_heatmap = pad_heatmap(data)\n",
    "    low_points = get_low_points(padded_heatmap)\n",
    "    \n",
    "    low_points_basin_count = []\n",
    "    \n",
    "    for low_point in low_points:\n",
    "        basin_count = get_basin_count(low_point, padded_heatmap)\n",
    "        low_points_basin_count.append(basin_count)\n",
    "    \n",
    "    # get the multiplication of the 3 highest size\n",
    "    output = 1\n",
    "    for basin_count in sorted(low_points_basin_count)[-3:]:\n",
    "        output *= basin_count\n",
    "    return output"
   ]
  },
  {
   "cell_type": "code",
   "execution_count": 6,
   "id": "166ef47b-3fa1-4ee6-a032-5e61daae06e0",
   "metadata": {
    "execution": {
     "iopub.execute_input": "2021-12-15T22:04:01.255931Z",
     "iopub.status.busy": "2021-12-15T22:04:01.255065Z",
     "iopub.status.idle": "2021-12-15T22:04:01.534953Z",
     "shell.execute_reply": "2021-12-15T22:04:01.534417Z",
     "shell.execute_reply.started": "2021-12-15T22:04:01.255892Z"
    },
    "tags": []
   },
   "outputs": [
    {
     "name": "stdout",
     "output_type": "stream",
     "text": [
      "541\n",
      "847504\n"
     ]
    }
   ],
   "source": [
    "print(solution_1(cleaned_data))   # 541\n",
    "print(solution_2(cleaned_data))   # 847504"
   ]
  }
 ],
 "metadata": {
  "kernelspec": {
   "display_name": "sally_gg",
   "language": "python",
   "name": "sally_gg"
  },
  "language_info": {
   "codemirror_mode": {
    "name": "ipython",
    "version": 3
   },
   "file_extension": ".py",
   "mimetype": "text/x-python",
   "name": "python",
   "nbconvert_exporter": "python",
   "pygments_lexer": "ipython3",
   "version": "3.9.6"
  },
  "widgets": {
   "application/vnd.jupyter.widget-state+json": {
    "state": {},
    "version_major": 2,
    "version_minor": 0
   }
  }
 },
 "nbformat": 4,
 "nbformat_minor": 5
}
