{
 "cells": [
  {
   "cell_type": "code",
   "execution_count": 30,
   "id": "21553c95-c140-46a1-b853-47aede988ec3",
   "metadata": {
    "execution": {
     "iopub.execute_input": "2021-12-02T15:38:27.011747Z",
     "iopub.status.busy": "2021-12-02T15:38:27.011543Z",
     "iopub.status.idle": "2021-12-02T15:38:27.020594Z",
     "shell.execute_reply": "2021-12-02T15:38:27.020170Z",
     "shell.execute_reply.started": "2021-12-02T15:38:27.011727Z"
    },
    "tags": []
   },
   "outputs": [],
   "source": [
    "input_location = \"inputs/input_20211202.txt\"\n",
    "\n",
    "with open(input_location) as f:\n",
    "    data = f.read().splitlines()"
   ]
  },
  {
   "cell_type": "code",
   "execution_count": 31,
   "id": "e8c0234e-d806-4c43-bda3-9f2f65c08d33",
   "metadata": {
    "execution": {
     "iopub.execute_input": "2021-12-02T15:38:27.319319Z",
     "iopub.status.busy": "2021-12-02T15:38:27.319104Z",
     "iopub.status.idle": "2021-12-02T15:38:27.326291Z",
     "shell.execute_reply": "2021-12-02T15:38:27.325744Z",
     "shell.execute_reply.started": "2021-12-02T15:38:27.319298Z"
    },
    "tags": []
   },
   "outputs": [],
   "source": [
    "def solution_1(data):\n",
    "    data_dict = {}\n",
    "    \n",
    "    for command in data:\n",
    "        key, value = command.split()[0], int(command.split()[1])\n",
    "        if key in data_dict.keys():\n",
    "            data_dict[key] += value\n",
    "        else:\n",
    "            data_dict[key] = value\n",
    "    \n",
    "    depth = data_dict[\"down\"] - data_dict[\"up\"]\n",
    "    \n",
    "    # horizontal * final depth\n",
    "    return data_dict[\"forward\"]*depth\n",
    "\n",
    "def solution_2(data):\n",
    "    sub_info = {\"horizontal\":0, \"depth\":0, \"aim\":0}\n",
    "    \n",
    "    for command in data:\n",
    "        direction, value = command.split()[0], int(command.split()[1]) \n",
    "        if direction == \"down\":\n",
    "            sub_info[\"aim\"] += value\n",
    "        elif direction == \"up\":\n",
    "            sub_info[\"aim\"] -= value\n",
    "        else: # direction is forward\n",
    "            sub_info[\"horizontal\"] += value\n",
    "            sub_info[\"depth\"] += sub_info[\"aim\"]*value\n",
    "    \n",
    "    return sub_info[\"horizontal\"]*sub_info[\"depth\"]"
   ]
  },
  {
   "cell_type": "code",
   "execution_count": 32,
   "id": "bba228fc-c79f-459b-b923-d775df45a2be",
   "metadata": {
    "execution": {
     "iopub.execute_input": "2021-12-02T15:38:27.851538Z",
     "iopub.status.busy": "2021-12-02T15:38:27.851337Z",
     "iopub.status.idle": "2021-12-02T15:38:27.855903Z",
     "shell.execute_reply": "2021-12-02T15:38:27.855383Z",
     "shell.execute_reply.started": "2021-12-02T15:38:27.851519Z"
    },
    "tags": []
   },
   "outputs": [
    {
     "name": "stdout",
     "output_type": "stream",
     "text": [
      "1868935\n",
      "1965970888\n"
     ]
    }
   ],
   "source": [
    "print(solution_1(data)) #1868935\n",
    "print(solution_2(data)) #1965970888"
   ]
  }
 ],
 "metadata": {
  "kernelspec": {
   "display_name": "sally_gg",
   "language": "python",
   "name": "sally_gg"
  },
  "language_info": {
   "codemirror_mode": {
    "name": "ipython",
    "version": 3
   },
   "file_extension": ".py",
   "mimetype": "text/x-python",
   "name": "python",
   "nbconvert_exporter": "python",
   "pygments_lexer": "ipython3",
   "version": "3.9.6"
  },
  "widgets": {
   "application/vnd.jupyter.widget-state+json": {
    "state": {},
    "version_major": 2,
    "version_minor": 0
   }
  }
 },
 "nbformat": 4,
 "nbformat_minor": 5
}
