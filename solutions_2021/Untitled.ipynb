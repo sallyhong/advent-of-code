{
 "cells": [
  {
   "cell_type": "code",
   "execution_count": 1,
   "id": "5ed94914-09bc-4087-8fb1-5c0652d840f2",
   "metadata": {
    "execution": {
     "iopub.execute_input": "2021-12-16T14:53:58.374868Z",
     "iopub.status.busy": "2021-12-16T14:53:58.374078Z",
     "iopub.status.idle": "2021-12-16T14:53:59.102769Z",
     "shell.execute_reply": "2021-12-16T14:53:59.102014Z",
     "shell.execute_reply.started": "2021-12-16T14:53:58.374842Z"
    }
   },
   "outputs": [],
   "source": [
    "import pandas as pd\n",
    "import numpy as np\n",
    "import plotly.express as px\n",
    "import plotly.graph_objects as go\n",
    "from scipy import stats\n",
    "import math\n",
    "pd.set_option('display.float_format', lambda x: '%.2f' % x)\n",
    "\n",
    "def helperWeibull(x, y, vec_cum, n):\n",
    "        \"\"\"\n",
    "            :param x: x - a list of media values (ex facebook_i)\n",
    "            :param y: x_bin - a list 1:n with n being number of values in period\n",
    "            :param vec_cum: thetaVecCum - the cumulative theta vector\n",
    "            :param n: the number of values in the media channel (X days, weeks, etc)\n",
    "            :return: numpy\n",
    "        \"\"\"\n",
    "        ## Initializing a vector with 0's padded at the beginning\n",
    "        ## ie if you're on the 3rd day of 5 days and the impressions for that day is 100 then x.vec will be\n",
    "        ## c(0, 0, 100, 100, 100)\n",
    "        x_vec = np.array([0] * (y - 1) + [x] * (n - y + 1))\n",
    "        \n",
    "        # Shift the cumulative theta values by 1 each iteration and pads beginning with 0's\n",
    "        # This makes the theta value to start as 1 for each new day\n",
    "        # If vec_cum is [1.0, .6, .5, .03, .01], then at:\n",
    "            # y=1 -> [1.0, .6, .5, .03, .01]\n",
    "            # y=2 -> [0.0, 1.0, .6, .5, .03]\n",
    "            # y=3 -> [0.0, 0.0, 1.0, .6, .5]\n",
    "        vec_lag = np.roll(vec_cum, y - 1)\n",
    "        vec_lag[: y - 1] = 0\n",
    "        \n",
    "        # Lines up impressions with theta value for that period\n",
    "        x_matrix = np.c_[x_vec, vec_lag]\n",
    "        \n",
    "        # Multiplies the number of impressions on that day by the theta value for that day\n",
    "        x_prod = np.multiply.reduce(x_matrix, axis=1)\n",
    "        return x_prod"
   ]
  },
  {
   "cell_type": "code",
   "execution_count": 4,
   "id": "2773cc99-5eaf-41e6-beeb-7b6bdd3c7ae7",
   "metadata": {
    "execution": {
     "iopub.execute_input": "2021-12-16T14:54:39.258853Z",
     "iopub.status.busy": "2021-12-16T14:54:39.258612Z",
     "iopub.status.idle": "2021-12-16T14:54:39.580648Z",
     "shell.execute_reply": "2021-12-16T14:54:39.580209Z",
     "shell.execute_reply.started": "2021-12-16T14:54:39.258834Z"
    },
    "tags": []
   },
   "outputs": [
    {
     "name": "stdout",
     "output_type": "stream",
     "text": [
      ">> HYPERPARAMETER VALUES FOR MODEL 1_1_2:\n"
     ]
    },
    {
     "data": {
      "text/html": [
       "<div><div id=61357b76-46aa-4f08-a56b-736ce892d1f0 style=\"display:none; background-color:#9D6CFF; color:white; width:200px; height:30px; padding-left:5px; border-radius:4px; flex-direction:row; justify-content:space-around; align-items:center;\" onmouseover=\"this.style.backgroundColor='#BA9BF8'\" onmouseout=\"this.style.backgroundColor='#9D6CFF'\" onclick=\"window.commands?.execute('create-mitosheet-from-dataframe-output');\">See Full Dataframe in Mito</div> <script> if (window.commands.hasCommand('create-mitosheet-from-dataframe-output')) document.getElementById('61357b76-46aa-4f08-a56b-736ce892d1f0').style.display = 'flex' </script> <table border=\"1\" class=\"dataframe\">\n",
       "  <thead>\n",
       "    <tr style=\"text-align: right;\">\n",
       "      <th></th>\n",
       "      <th>facebook_I_alphas</th>\n",
       "      <th>facebook_I_gammas</th>\n",
       "      <th>facebook_I_scales</th>\n",
       "      <th>facebook_I_shapes</th>\n",
       "    </tr>\n",
       "  </thead>\n",
       "  <tbody>\n",
       "    <tr>\n",
       "      <th>1</th>\n",
       "      <td>1.52</td>\n",
       "      <td>0.74</td>\n",
       "      <td>0.09</td>\n",
       "      <td>0.89</td>\n",
       "    </tr>\n",
       "  </tbody>\n",
       "</table></div>"
      ],
      "text/plain": [
       "   facebook_I_alphas  facebook_I_gammas  facebook_I_scales  facebook_I_shapes\n",
       "1               1.52               0.74               0.09               0.89"
      ]
     },
     "metadata": {},
     "output_type": "display_data"
    },
    {
     "name": "stdout",
     "output_type": "stream",
     "text": [
      ">> MEDIA TRANSFORMS:\n"
     ]
    },
    {
     "data": {
      "text/html": [
       "<div><div id=e6954bff-a4c1-4c60-9ed2-c106ef30496a style=\"display:none; background-color:#9D6CFF; color:white; width:200px; height:30px; padding-left:5px; border-radius:4px; flex-direction:row; justify-content:space-around; align-items:center;\" onmouseover=\"this.style.backgroundColor='#BA9BF8'\" onmouseout=\"this.style.backgroundColor='#9D6CFF'\" onclick=\"window.commands?.execute('create-mitosheet-from-dataframe-output');\">See Full Dataframe in Mito</div> <script> if (window.commands.hasCommand('create-mitosheet-from-dataframe-output')) document.getElementById('e6954bff-a4c1-4c60-9ed2-c106ef30496a').style.display = 'flex' </script> <table border=\"1\" class=\"dataframe\">\n",
       "  <thead>\n",
       "    <tr style=\"text-align: right;\">\n",
       "      <th></th>\n",
       "      <th>ds</th>\n",
       "      <th>type</th>\n",
       "      <th>facebook_I</th>\n",
       "    </tr>\n",
       "  </thead>\n",
       "  <tbody>\n",
       "    <tr>\n",
       "      <th>0</th>\n",
       "      <td>2019-04-22</td>\n",
       "      <td>rawMedia</td>\n",
       "      <td>19361443.73</td>\n",
       "    </tr>\n",
       "    <tr>\n",
       "      <th>75</th>\n",
       "      <td>2019-04-22</td>\n",
       "      <td>adstockedMedia</td>\n",
       "      <td>19361443.73</td>\n",
       "    </tr>\n",
       "    <tr>\n",
       "      <th>1</th>\n",
       "      <td>2019-04-29</td>\n",
       "      <td>rawMedia</td>\n",
       "      <td>31687579.01</td>\n",
       "    </tr>\n",
       "    <tr>\n",
       "      <th>76</th>\n",
       "      <td>2019-04-29</td>\n",
       "      <td>adstockedMedia</td>\n",
       "      <td>42994997.40</td>\n",
       "    </tr>\n",
       "    <tr>\n",
       "      <th>2</th>\n",
       "      <td>2019-05-06</td>\n",
       "      <td>rawMedia</td>\n",
       "      <td>0.00</td>\n",
       "    </tr>\n",
       "    <tr>\n",
       "      <th>77</th>\n",
       "      <td>2019-05-06</td>\n",
       "      <td>adstockedMedia</td>\n",
       "      <td>22665861.59</td>\n",
       "    </tr>\n",
       "    <tr>\n",
       "      <th>3</th>\n",
       "      <td>2019-05-13</td>\n",
       "      <td>rawMedia</td>\n",
       "      <td>65207240.82</td>\n",
       "    </tr>\n",
       "    <tr>\n",
       "      <th>78</th>\n",
       "      <td>2019-05-13</td>\n",
       "      <td>adstockedMedia</td>\n",
       "      <td>73003423.71</td>\n",
       "    </tr>\n",
       "  </tbody>\n",
       "</table></div>"
      ],
      "text/plain": [
       "            ds            type  facebook_I\n",
       "0   2019-04-22        rawMedia 19361443.73\n",
       "75  2019-04-22  adstockedMedia 19361443.73\n",
       "1   2019-04-29        rawMedia 31687579.01\n",
       "76  2019-04-29  adstockedMedia 42994997.40\n",
       "2   2019-05-06        rawMedia        0.00\n",
       "77  2019-05-06  adstockedMedia 22665861.59\n",
       "3   2019-05-13        rawMedia 65207240.82\n",
       "78  2019-05-13  adstockedMedia 73003423.71"
      ]
     },
     "metadata": {},
     "output_type": "display_data"
    }
   ],
   "source": [
    "## LOAD DATA FROM MODEL OUTPUT - ANY TRANSFORM CAN BE BACK-ENGINEERED\n",
    "\n",
    "# rolling windowlength can be found by InputCollect$rollingWindowLength\n",
    "windlen = 10\n",
    "\n",
    "# Read in the hyperparameters for all the models then limit to 1 model\n",
    "hp_path = 's3://mti-sandbox/robyn_demo_outputs/robyn_demo_weibull_cdf/pareto_hyperparameters.csv'\n",
    "hyperparam_df = pd.read_csv(hp_path)\n",
    "sol_id = hyperparam_df['solID'].unique()[1]\n",
    "\n",
    "# Get the values of the hyperparameters for one channel for POC\n",
    "hyperparams_fb = hyperparam_df[hyperparam_df['solID'] == sol_id][[c for c in hyperparam_df.columns if 'facebook' in c]]\n",
    "print(f'>> HYPERPARAMETER VALUES FOR MODEL {sol_id}:')\n",
    "display(hyperparams_fb)\n",
    "\n",
    "# Load media transform values and limit to selected model\n",
    "mt_path = 's3://mti-sandbox/robyn_demo_outputs/robyn_demo_weibull_cdf/pareto_media_transform_matrix.csv'\n",
    "media_transform_df = pd.read_csv(mt_path)\n",
    "media_transform_df = media_transform_df[media_transform_df['solID'] == sol_id] \\\n",
    "                    .sort_values(by='ds')[['ds', 'facebook_I', 'type', 'solID']]\n",
    "\n",
    "print(f'>> MEDIA TRANSFORMS:')\n",
    "cdf_sample = media_transform_df[media_transform_df['type'].isin(['rawMedia', 'adstockedMedia'])][['ds', 'type','facebook_I']]\n",
    "display(cdf_sample.loc[[0,75,1,76,2,77,3,78]])"
   ]
  },
  {
   "cell_type": "code",
   "execution_count": 5,
   "id": "e569f337-e5de-4b9f-972a-190f9fd0cef6",
   "metadata": {
    "execution": {
     "iopub.execute_input": "2021-12-16T14:54:49.755214Z",
     "iopub.status.busy": "2021-12-16T14:54:49.755012Z",
     "iopub.status.idle": "2021-12-16T14:54:50.150928Z",
     "shell.execute_reply": "2021-12-16T14:54:50.150390Z",
     "shell.execute_reply.started": "2021-12-16T14:54:49.755197Z"
    }
   },
   "outputs": [
    {
     "name": "stdout",
     "output_type": "stream",
     "text": [
      ">> HYPERPARAMETER VALUES FOR MODEL 1_1_2:\n"
     ]
    },
    {
     "data": {
      "text/html": [
       "<div><div id=67aab7a0-0d7f-4138-a710-c97089dab07b style=\"display:none; background-color:#9D6CFF; color:white; width:200px; height:30px; padding-left:5px; border-radius:4px; flex-direction:row; justify-content:space-around; align-items:center;\" onmouseover=\"this.style.backgroundColor='#BA9BF8'\" onmouseout=\"this.style.backgroundColor='#9D6CFF'\" onclick=\"window.commands?.execute('create-mitosheet-from-dataframe-output');\">See Full Dataframe in Mito</div> <script> if (window.commands.hasCommand('create-mitosheet-from-dataframe-output')) document.getElementById('67aab7a0-0d7f-4138-a710-c97089dab07b').style.display = 'flex' </script> <table border=\"1\" class=\"dataframe\">\n",
       "  <thead>\n",
       "    <tr style=\"text-align: right;\">\n",
       "      <th></th>\n",
       "      <th>facebook_I_alphas</th>\n",
       "      <th>facebook_I_gammas</th>\n",
       "      <th>facebook_I_scales</th>\n",
       "      <th>facebook_I_shapes</th>\n",
       "    </tr>\n",
       "  </thead>\n",
       "  <tbody>\n",
       "    <tr>\n",
       "      <th>1</th>\n",
       "      <td>1.52</td>\n",
       "      <td>0.74</td>\n",
       "      <td>0.09</td>\n",
       "      <td>0.89</td>\n",
       "    </tr>\n",
       "  </tbody>\n",
       "</table></div>"
      ],
      "text/plain": [
       "   facebook_I_alphas  facebook_I_gammas  facebook_I_scales  facebook_I_shapes\n",
       "1               1.52               0.74               0.09               0.89"
      ]
     },
     "metadata": {},
     "output_type": "display_data"
    },
    {
     "name": "stdout",
     "output_type": "stream",
     "text": [
      ">> MEDIA TRANSFORMS:\n"
     ]
    },
    {
     "data": {
      "text/html": [
       "<div><div id=23cb42ad-dc89-4e85-8c58-989311929255 style=\"display:none; background-color:#9D6CFF; color:white; width:200px; height:30px; padding-left:5px; border-radius:4px; flex-direction:row; justify-content:space-around; align-items:center;\" onmouseover=\"this.style.backgroundColor='#BA9BF8'\" onmouseout=\"this.style.backgroundColor='#9D6CFF'\" onclick=\"window.commands?.execute('create-mitosheet-from-dataframe-output');\">See Full Dataframe in Mito</div> <script> if (window.commands.hasCommand('create-mitosheet-from-dataframe-output')) document.getElementById('23cb42ad-dc89-4e85-8c58-989311929255').style.display = 'flex' </script> <table border=\"1\" class=\"dataframe\">\n",
       "  <thead>\n",
       "    <tr style=\"text-align: right;\">\n",
       "      <th></th>\n",
       "      <th>ds</th>\n",
       "      <th>type</th>\n",
       "      <th>facebook_I</th>\n",
       "    </tr>\n",
       "  </thead>\n",
       "  <tbody>\n",
       "    <tr>\n",
       "      <th>0</th>\n",
       "      <td>2019-04-22</td>\n",
       "      <td>rawMedia</td>\n",
       "      <td>19361443.73</td>\n",
       "    </tr>\n",
       "    <tr>\n",
       "      <th>75</th>\n",
       "      <td>2019-04-22</td>\n",
       "      <td>adstockedMedia</td>\n",
       "      <td>19361443.73</td>\n",
       "    </tr>\n",
       "    <tr>\n",
       "      <th>1</th>\n",
       "      <td>2019-04-29</td>\n",
       "      <td>rawMedia</td>\n",
       "      <td>31687579.01</td>\n",
       "    </tr>\n",
       "    <tr>\n",
       "      <th>76</th>\n",
       "      <td>2019-04-29</td>\n",
       "      <td>adstockedMedia</td>\n",
       "      <td>42994997.40</td>\n",
       "    </tr>\n",
       "    <tr>\n",
       "      <th>2</th>\n",
       "      <td>2019-05-06</td>\n",
       "      <td>rawMedia</td>\n",
       "      <td>0.00</td>\n",
       "    </tr>\n",
       "    <tr>\n",
       "      <th>77</th>\n",
       "      <td>2019-05-06</td>\n",
       "      <td>adstockedMedia</td>\n",
       "      <td>22665861.59</td>\n",
       "    </tr>\n",
       "    <tr>\n",
       "      <th>3</th>\n",
       "      <td>2019-05-13</td>\n",
       "      <td>rawMedia</td>\n",
       "      <td>65207240.82</td>\n",
       "    </tr>\n",
       "    <tr>\n",
       "      <th>78</th>\n",
       "      <td>2019-05-13</td>\n",
       "      <td>adstockedMedia</td>\n",
       "      <td>73003423.71</td>\n",
       "    </tr>\n",
       "  </tbody>\n",
       "</table></div>"
      ],
      "text/plain": [
       "            ds            type  facebook_I\n",
       "0   2019-04-22        rawMedia 19361443.73\n",
       "75  2019-04-22  adstockedMedia 19361443.73\n",
       "1   2019-04-29        rawMedia 31687579.01\n",
       "76  2019-04-29  adstockedMedia 42994997.40\n",
       "2   2019-05-06        rawMedia        0.00\n",
       "77  2019-05-06  adstockedMedia 22665861.59\n",
       "3   2019-05-13        rawMedia 65207240.82\n",
       "78  2019-05-13  adstockedMedia 73003423.71"
      ]
     },
     "metadata": {},
     "output_type": "display_data"
    }
   ],
   "source": [
    "## LOAD DATA FROM MODEL OUTPUT - ANY TRANSFORM CAN BE BACK-ENGINEERED\n",
    "\n",
    "# rolling windowlength can be found by InputCollect$rollingWindowLength\n",
    "windlen = 15\n",
    "\n",
    "# Get the values of the hyperparameters for one channel for POC\n",
    "hyperparams_fb = hyperparam_df[hyperparam_df['solID'] == sol_id][[c for c in hyperparam_df.columns if 'facebook' in c]]\n",
    "print(f'>> HYPERPARAMETER VALUES FOR MODEL {sol_id}:')\n",
    "display(hyperparams_fb)\n",
    "\n",
    "# Load media transform values and limit to selected model\n",
    "mt_path = 's3://mti-sandbox/robyn_demo_outputs/robyn_demo_weibull_cdf/pareto_media_transform_matrix.csv'\n",
    "media_transform_df = pd.read_csv(mt_path)\n",
    "media_transform_df = media_transform_df[media_transform_df['solID'] == sol_id] \\\n",
    "                    .sort_values(by='ds')[['ds', 'facebook_I', 'type', 'solID']]\n",
    "\n",
    "print(f'>> MEDIA TRANSFORMS:')\n",
    "cdf_sample = media_transform_df[media_transform_df['type'].isin(['rawMedia', 'adstockedMedia'])][['ds', 'type','facebook_I']]\n",
    "display(cdf_sample.loc[[0,75,1,76,2,77,3,78]])"
   ]
  },
  {
   "cell_type": "code",
   "execution_count": null,
   "id": "47cd3156-58cb-479c-87ed-458f51a7d546",
   "metadata": {},
   "outputs": [],
   "source": []
  }
 ],
 "metadata": {
  "kernelspec": {
   "display_name": "Python 3 (ipykernel)",
   "language": "python",
   "name": "python3"
  },
  "language_info": {
   "codemirror_mode": {
    "name": "ipython",
    "version": 3
   },
   "file_extension": ".py",
   "mimetype": "text/x-python",
   "name": "python",
   "nbconvert_exporter": "python",
   "pygments_lexer": "ipython3",
   "version": "3.9.6"
  },
  "widgets": {
   "application/vnd.jupyter.widget-state+json": {
    "state": {},
    "version_major": 2,
    "version_minor": 0
   }
  }
 },
 "nbformat": 4,
 "nbformat_minor": 5
}
