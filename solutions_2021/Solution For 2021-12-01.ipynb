{
 "cells": [
  {
   "cell_type": "code",
   "execution_count": 1,
   "id": "21553c95-c140-46a1-b853-47aede988ec3",
   "metadata": {
    "execution": {
     "iopub.execute_input": "2021-12-02T15:41:48.271224Z",
     "iopub.status.busy": "2021-12-02T15:41:48.271002Z",
     "iopub.status.idle": "2021-12-02T15:41:48.278967Z",
     "shell.execute_reply": "2021-12-02T15:41:48.278494Z",
     "shell.execute_reply.started": "2021-12-02T15:41:48.271169Z"
    },
    "tags": []
   },
   "outputs": [],
   "source": [
    "input_location = \"inputs/input_20211201.txt\"\n",
    "\n",
    "with open(input_location) as f:\n",
    "    data = f.read().splitlines()\n",
    "data = [int(i) for i in data]"
   ]
  },
  {
   "cell_type": "code",
   "execution_count": 2,
   "id": "90242041-6674-45e4-a30d-2ec471a7c56c",
   "metadata": {
    "execution": {
     "iopub.execute_input": "2021-12-02T15:41:48.280424Z",
     "iopub.status.busy": "2021-12-02T15:41:48.280255Z",
     "iopub.status.idle": "2021-12-02T15:41:48.287510Z",
     "shell.execute_reply": "2021-12-02T15:41:48.286879Z",
     "shell.execute_reply.started": "2021-12-02T15:41:48.280406Z"
    },
    "tags": []
   },
   "outputs": [],
   "source": [
    "def solution_1(data):\n",
    "    increase_count = 0\n",
    "    for i in range(len(data)-1):\n",
    "        if data[i+1] > data[i]:\n",
    "            increase_count += 1\n",
    "\n",
    "    return increase_count\n",
    "\n",
    "def solution_2(data, window=3):\n",
    "    data_window_summed = []\n",
    "    \n",
    "    for i in range(len(data)-window+1):\n",
    "        num_to_append = 0\n",
    "        for j in range(window):\n",
    "            num_to_append += data[i+j]\n",
    "        data_window_summed.append(num_to_append)\n",
    "    \n",
    "    increase_count = solution_1(data_window_summed)\n",
    "    \n",
    "    return increase_count"
   ]
  },
  {
   "cell_type": "code",
   "execution_count": 3,
   "id": "57dfbb19-72aa-46e5-8692-5884fde51cde",
   "metadata": {
    "execution": {
     "iopub.execute_input": "2021-12-02T15:41:48.288409Z",
     "iopub.status.busy": "2021-12-02T15:41:48.288154Z",
     "iopub.status.idle": "2021-12-02T15:41:48.292959Z",
     "shell.execute_reply": "2021-12-02T15:41:48.292383Z",
     "shell.execute_reply.started": "2021-12-02T15:41:48.288390Z"
    },
    "tags": []
   },
   "outputs": [
    {
     "name": "stdout",
     "output_type": "stream",
     "text": [
      "1301\n",
      "1346\n"
     ]
    }
   ],
   "source": [
    "print(solution_1(data)) # 1301\n",
    "print(solution_2(data)) # 1346"
   ]
  }
 ],
 "metadata": {
  "kernelspec": {
   "display_name": "sally_gg",
   "language": "python",
   "name": "sally_gg"
  },
  "language_info": {
   "codemirror_mode": {
    "name": "ipython",
    "version": 3
   },
   "file_extension": ".py",
   "mimetype": "text/x-python",
   "name": "python",
   "nbconvert_exporter": "python",
   "pygments_lexer": "ipython3",
   "version": "3.9.6"
  },
  "widgets": {
   "application/vnd.jupyter.widget-state+json": {
    "state": {},
    "version_major": 2,
    "version_minor": 0
   }
  }
 },
 "nbformat": 4,
 "nbformat_minor": 5
}
