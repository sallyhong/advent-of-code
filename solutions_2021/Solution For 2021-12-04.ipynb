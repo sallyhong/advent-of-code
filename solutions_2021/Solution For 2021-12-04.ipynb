{
 "cells": [
  {
   "cell_type": "code",
   "execution_count": 1,
   "id": "21553c95-c140-46a1-b853-47aede988ec3",
   "metadata": {
    "execution": {
     "iopub.execute_input": "2021-12-15T02:06:03.024563Z",
     "iopub.status.busy": "2021-12-15T02:06:03.022170Z",
     "iopub.status.idle": "2021-12-15T02:06:03.032491Z",
     "shell.execute_reply": "2021-12-15T02:06:03.031985Z",
     "shell.execute_reply.started": "2021-12-15T02:06:03.024530Z"
    },
    "tags": []
   },
   "outputs": [],
   "source": [
    "input_location = \"inputs/input_20211204.txt\"\n",
    "\n",
    "with open(input_location) as f:\n",
    "    data = f.read().splitlines()\n",
    "    \n",
    "input_numbers = [int(num) for num in data[0].split(',')]\n",
    "board_list = [x for x in data if x][1:]\n",
    "\n",
    "def chunker(seq, size):\n",
    "    return (seq[pos:pos + size] for pos in range(0, len(seq), size))\n",
    "\n",
    "def flip_board(board):\n",
    "    flipped_board = []\n",
    "    for i in range(len(board[0])):\n",
    "        flipped_row = [x[i] for x in board]\n",
    "        flipped_board.append(flipped_row)\n",
    "    return flipped_board\n",
    "\n",
    "def parse_board_list(board_list):\n",
    "    board_list_parsed = []\n",
    "    for board in chunker(board_list, 5):\n",
    "        temp_board = []\n",
    "        for row in board:\n",
    "            row_parsed = [int(num) for num in row.split()]\n",
    "            temp_board.append(row_parsed)\n",
    "        board_list_parsed.append(temp_board)\n",
    "        board_list_parsed.append(flip_board(temp_board))\n",
    "    return board_list_parsed\n",
    "\n",
    "def get_board_sum(board):\n",
    "    flattened_board = [num for row in board for num in row]\n",
    "    return sum(flattened_board)"
   ]
  },
  {
   "cell_type": "code",
   "execution_count": 2,
   "id": "acb805a3-d37e-4491-8342-24a702ce4aa4",
   "metadata": {
    "execution": {
     "iopub.execute_input": "2021-12-15T02:06:03.033487Z",
     "iopub.status.busy": "2021-12-15T02:06:03.033279Z",
     "iopub.status.idle": "2021-12-15T02:06:03.039650Z",
     "shell.execute_reply": "2021-12-15T02:06:03.039012Z",
     "shell.execute_reply.started": "2021-12-15T02:06:03.033469Z"
    },
    "tags": []
   },
   "outputs": [],
   "source": [
    "def solution_1(board_list, input_numbers):\n",
    "    board_list_parsed = parse_board_list(board_list)\n",
    "    \n",
    "    for input_num in input_numbers:\n",
    "        for board in board_list_parsed:\n",
    "            # remove the input_num\n",
    "            for idx, row in enumerate(board):\n",
    "                board[idx] = [num for num in row if num != input_num]\n",
    "                if len(board[idx]) == 0:\n",
    "                    return input_num * get_board_sum(board)\n",
    "                \n",
    "def solution_2(board_list, input_numbers):\n",
    "    last_board_info = (0, 0)\n",
    "    board_list_parsed = parse_board_list(board_list)\n",
    "    board_list_flag = [False for board in board_list_parsed]\n",
    "    \n",
    "    for input_num in input_numbers:\n",
    "        for board_num, board in enumerate(board_list_parsed):\n",
    "            # remove the input_num\n",
    "            if board_list_flag[board_num]:\n",
    "                continue\n",
    "\n",
    "            for idx, row in enumerate(board):\n",
    "                board[idx] = [num for num in row if num != input_num]\n",
    "                if len(board[idx]) == 0:\n",
    "                    last_board_info = (input_num, get_board_sum(board))\n",
    "                    if board_num %2 == 1:\n",
    "                        board_list_flag[board_num] = True\n",
    "                        board_list_flag[board_num-1] = True\n",
    "                    else:\n",
    "                        board_list_flag[board_num] = True\n",
    "                        board_list_flag[board_num+1] = True\n",
    "    return last_board_info[0] * last_board_info[1]"
   ]
  },
  {
   "cell_type": "code",
   "execution_count": 3,
   "id": "c73930b2-3114-4cb8-89f8-f5e3d60b1bc8",
   "metadata": {
    "execution": {
     "iopub.execute_input": "2021-12-15T02:06:03.041794Z",
     "iopub.status.busy": "2021-12-15T02:06:03.040818Z",
     "iopub.status.idle": "2021-12-15T02:06:03.099504Z",
     "shell.execute_reply": "2021-12-15T02:06:03.099042Z",
     "shell.execute_reply.started": "2021-12-15T02:06:03.041756Z"
    },
    "tags": []
   },
   "outputs": [
    {
     "name": "stdout",
     "output_type": "stream",
     "text": [
      "32844\n",
      "4920\n"
     ]
    }
   ],
   "source": [
    "print(solution_1(board_list, input_numbers)) # 32844\n",
    "print(solution_2(board_list, input_numbers)) # 4920"
   ]
  }
 ],
 "metadata": {
  "kernelspec": {
   "display_name": "sally_gg",
   "language": "python",
   "name": "sally_gg"
  },
  "language_info": {
   "codemirror_mode": {
    "name": "ipython",
    "version": 3
   },
   "file_extension": ".py",
   "mimetype": "text/x-python",
   "name": "python",
   "nbconvert_exporter": "python",
   "pygments_lexer": "ipython3",
   "version": "3.9.6"
  },
  "widgets": {
   "application/vnd.jupyter.widget-state+json": {
    "state": {},
    "version_major": 2,
    "version_minor": 0
   }
  }
 },
 "nbformat": 4,
 "nbformat_minor": 5
}
