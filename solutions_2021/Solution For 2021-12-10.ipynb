{
 "cells": [
  {
   "cell_type": "code",
   "execution_count": 1,
   "id": "21553c95-c140-46a1-b853-47aede988ec3",
   "metadata": {
    "execution": {
     "iopub.execute_input": "2021-12-16T03:56:46.257776Z",
     "iopub.status.busy": "2021-12-16T03:56:46.257477Z",
     "iopub.status.idle": "2021-12-16T03:56:46.260919Z",
     "shell.execute_reply": "2021-12-16T03:56:46.260486Z",
     "shell.execute_reply.started": "2021-12-16T03:56:46.257755Z"
    },
    "tags": []
   },
   "outputs": [],
   "source": [
    "input_location = \"inputs/input_20211210.txt\"\n",
    "\n",
    "with open(input_location) as f:\n",
    "    data = f.read().splitlines()"
   ]
  },
  {
   "cell_type": "code",
   "execution_count": 2,
   "id": "79673bf3-f31d-4695-8526-ac6435536c49",
   "metadata": {
    "execution": {
     "iopub.execute_input": "2021-12-16T03:56:46.261889Z",
     "iopub.status.busy": "2021-12-16T03:56:46.261576Z",
     "iopub.status.idle": "2021-12-16T03:56:46.272000Z",
     "shell.execute_reply": "2021-12-16T03:56:46.270686Z",
     "shell.execute_reply.started": "2021-12-16T03:56:46.261851Z"
    },
    "tags": []
   },
   "outputs": [],
   "source": [
    "open_chunks = [\"(\", \"[\", \"{\", \"<\"]\n",
    "close_chunks = [\")\", \"]\", \"}\", \">\"]\n",
    "\n",
    "complete_chunks = [a+b for a,b in zip(open_chunks, close_chunks)]\n",
    "\n",
    "illegal_scores = {\")\": 3, \"]\": 57, \"}\": 1197, \">\":25137}\n",
    "completion_scores = {\"(\": 1, \"[\": 2, \"{\": 3, \"<\":4}"
   ]
  },
  {
   "cell_type": "code",
   "execution_count": 3,
   "id": "f86e54f2-7cc8-4f9e-a375-91198146a01f",
   "metadata": {
    "execution": {
     "iopub.execute_input": "2021-12-16T03:56:46.274276Z",
     "iopub.status.busy": "2021-12-16T03:56:46.273420Z",
     "iopub.status.idle": "2021-12-16T03:56:46.281889Z",
     "shell.execute_reply": "2021-12-16T03:56:46.281204Z",
     "shell.execute_reply.started": "2021-12-16T03:56:46.274226Z"
    },
    "tags": []
   },
   "outputs": [],
   "source": [
    "########## HELPER FUNCTIONS ##########\n",
    "\n",
    "def remove_complete_chunks(input_str):\n",
    "    removed_all = False\n",
    "\n",
    "    while not removed_all:\n",
    "        original_length = len(input_str)\n",
    "        for chunk in complete_chunks:\n",
    "            input_str = input_str.replace(chunk, \"\")    \n",
    "\n",
    "        if original_length == len(input_str):\n",
    "            removed_all = True\n",
    "\n",
    "    return input_str\n",
    "\n",
    "def find_first_illegal_character(input_str):\n",
    "    for open_chunk in open_chunks:\n",
    "        input_str = input_str.replace(open_chunk, \"\")\n",
    "    \n",
    "    if input_str:\n",
    "        return input_str[0]\n",
    "    return \"\"\n",
    "\n",
    "def convert_illegal_character_str_to_score(illegal_characters, illegal_scores=illegal_scores):\n",
    "    total_score = 0\n",
    "    for character in illegal_characters:\n",
    "        score = illegal_scores[character]\n",
    "        total_score += score\n",
    "    return total_score\n",
    "\n",
    "def convert_incomplete_str_to_score(incomplete_str, completion_scores=completion_scores):\n",
    "    total_score = 0\n",
    "    for character in incomplete_str[::-1]:\n",
    "        total_score = total_score*5 + completion_scores[character]\n",
    "    return total_score"
   ]
  },
  {
   "cell_type": "code",
   "execution_count": 4,
   "id": "a650d580-8da2-4d4f-b3d6-616acaefd292",
   "metadata": {
    "execution": {
     "iopub.execute_input": "2021-12-16T03:56:46.283114Z",
     "iopub.status.busy": "2021-12-16T03:56:46.282914Z",
     "iopub.status.idle": "2021-12-16T03:56:46.290993Z",
     "shell.execute_reply": "2021-12-16T03:56:46.289953Z",
     "shell.execute_reply.started": "2021-12-16T03:56:46.283096Z"
    },
    "tags": []
   },
   "outputs": [],
   "source": [
    "########## SOLUTION ##########\n",
    "\n",
    "def solution_1(data):\n",
    "    illegal_characters = \"\"\n",
    "    \n",
    "    for line in data:\n",
    "        cleaned_line = remove_complete_chunks(line)\n",
    "        illegal_character = find_first_illegal_character(cleaned_line)\n",
    "        illegal_characters += illegal_character\n",
    "    \n",
    "    return convert_illegal_character_str_to_score(illegal_characters)\n",
    "\n",
    "def solution_2(data):\n",
    "    score_list = []\n",
    "    \n",
    "    for line in data:\n",
    "        cleaned_line = remove_complete_chunks(line)\n",
    "        illegal_character = find_first_illegal_character(cleaned_line)\n",
    "        if not illegal_character:\n",
    "            completion_score = convert_incomplete_str_to_score(cleaned_line)\n",
    "            score_list.append(completion_score)\n",
    "    \n",
    "    # get the middle number\n",
    "    sorted_score_list = sorted(score_list)\n",
    "    return sorted_score_list[len(sorted_score_list)//2]"
   ]
  },
  {
   "cell_type": "code",
   "execution_count": 5,
   "id": "06c33736-96d2-4d57-92a1-5372c559e8b2",
   "metadata": {
    "execution": {
     "iopub.execute_input": "2021-12-16T03:56:46.293507Z",
     "iopub.status.busy": "2021-12-16T03:56:46.293311Z",
     "iopub.status.idle": "2021-12-16T03:56:46.301351Z",
     "shell.execute_reply": "2021-12-16T03:56:46.300408Z",
     "shell.execute_reply.started": "2021-12-16T03:56:46.293484Z"
    },
    "tags": []
   },
   "outputs": [
    {
     "name": "stdout",
     "output_type": "stream",
     "text": [
      "315693\n",
      "1870887234\n"
     ]
    }
   ],
   "source": [
    "########## OUTPUT ##########\n",
    "\n",
    "print(solution_1(data))   # 315693\n",
    "print(solution_2(data))   # 1870887234"
   ]
  }
 ],
 "metadata": {
  "kernelspec": {
   "display_name": "sally_gg",
   "language": "python",
   "name": "sally_gg"
  },
  "language_info": {
   "codemirror_mode": {
    "name": "ipython",
    "version": 3
   },
   "file_extension": ".py",
   "mimetype": "text/x-python",
   "name": "python",
   "nbconvert_exporter": "python",
   "pygments_lexer": "ipython3",
   "version": "3.9.6"
  },
  "widgets": {
   "application/vnd.jupyter.widget-state+json": {
    "state": {},
    "version_major": 2,
    "version_minor": 0
   }
  }
 },
 "nbformat": 4,
 "nbformat_minor": 5
}
