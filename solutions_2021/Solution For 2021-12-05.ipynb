{
 "cells": [
  {
   "cell_type": "code",
   "execution_count": 1,
   "id": "21553c95-c140-46a1-b853-47aede988ec3",
   "metadata": {
    "execution": {
     "iopub.execute_input": "2021-12-15T02:01:24.890774Z",
     "iopub.status.busy": "2021-12-15T02:01:24.890488Z",
     "iopub.status.idle": "2021-12-15T02:01:24.897972Z",
     "shell.execute_reply": "2021-12-15T02:01:24.897056Z",
     "shell.execute_reply.started": "2021-12-15T02:01:24.890748Z"
    },
    "tags": []
   },
   "outputs": [],
   "source": [
    "input_location = \"inputs/input_20211205.txt\"\n",
    "\n",
    "with open(input_location) as f:\n",
    "    data = f.read().splitlines()"
   ]
  },
  {
   "cell_type": "code",
   "execution_count": 2,
   "id": "a8145afd-99ca-4de0-9781-cc061c6bac4e",
   "metadata": {
    "execution": {
     "iopub.execute_input": "2021-12-15T02:01:24.899399Z",
     "iopub.status.busy": "2021-12-15T02:01:24.899216Z",
     "iopub.status.idle": "2021-12-15T02:01:24.904809Z",
     "shell.execute_reply": "2021-12-15T02:01:24.903766Z",
     "shell.execute_reply.started": "2021-12-15T02:01:24.899380Z"
    },
    "tags": []
   },
   "outputs": [],
   "source": [
    "from collections import Counter"
   ]
  },
  {
   "cell_type": "code",
   "execution_count": 3,
   "id": "56143f51-2d52-4d12-b7b3-ebb7f85ddba4",
   "metadata": {
    "execution": {
     "iopub.execute_input": "2021-12-15T02:01:24.908876Z",
     "iopub.status.busy": "2021-12-15T02:01:24.908549Z",
     "iopub.status.idle": "2021-12-15T02:01:24.913444Z",
     "shell.execute_reply": "2021-12-15T02:01:24.912933Z",
     "shell.execute_reply.started": "2021-12-15T02:01:24.908850Z"
    },
    "tags": []
   },
   "outputs": [],
   "source": [
    "cleaned_data = []\n",
    "for str_line in data:\n",
    "    split_line = str_line.split(\" -> \")\n",
    "\n",
    "    first_tuple = [int(num) for num in (split_line[0].split(\",\"))]\n",
    "    second_tuple = [int(num) for num in (split_line[1].split(\",\"))]\n",
    "\n",
    "    cleaned_data.append((first_tuple, second_tuple))"
   ]
  },
  {
   "cell_type": "code",
   "execution_count": 4,
   "id": "936b56b2-529f-4106-9129-37f2753d3b9e",
   "metadata": {
    "execution": {
     "iopub.execute_input": "2021-12-15T02:01:24.914881Z",
     "iopub.status.busy": "2021-12-15T02:01:24.914470Z",
     "iopub.status.idle": "2021-12-15T02:01:24.920232Z",
     "shell.execute_reply": "2021-12-15T02:01:24.919556Z",
     "shell.execute_reply.started": "2021-12-15T02:01:24.914852Z"
    },
    "tags": []
   },
   "outputs": [],
   "source": [
    "def generate_line_coordinates(coordinate_pairs, diagonal=False):\n",
    "    line_coordinates = []\n",
    "\n",
    "    min_x, max_x = min([x[0] for x in coordinate_pairs]), max([x[0] for x in coordinate_pairs])\n",
    "    min_y, max_y = min([x[1] for x in coordinate_pairs]), max([x[1] for x in coordinate_pairs])\n",
    "\n",
    "    if not diagonal:\n",
    "        for x in range(min_x, max_x + 1):\n",
    "            for y in range(min_y, max_y + 1):\n",
    "                line_coordinates.append((x, y))\n",
    "\n",
    "    else:\n",
    "        shift_direction = (coordinate_pairs[0][0] - coordinate_pairs[1][0]) / (\n",
    "            coordinate_pairs[0][1] - coordinate_pairs[1][1]\n",
    "        )\n",
    "        shift = 0\n",
    "        for i in range(min_x, max_x + 1):\n",
    "            if shift_direction > 0:\n",
    "                line_coordinates.append((i, min_y + shift))\n",
    "            else:\n",
    "                line_coordinates.append((i, max_y + shift))\n",
    "\n",
    "            shift += shift_direction\n",
    "\n",
    "    return line_coordinates"
   ]
  },
  {
   "cell_type": "code",
   "execution_count": 5,
   "id": "c575afb7-f9a7-4015-859a-c1fa9aa36c7c",
   "metadata": {
    "execution": {
     "iopub.execute_input": "2021-12-15T02:01:24.921608Z",
     "iopub.status.busy": "2021-12-15T02:01:24.921316Z",
     "iopub.status.idle": "2021-12-15T02:01:24.928895Z",
     "shell.execute_reply": "2021-12-15T02:01:24.928335Z",
     "shell.execute_reply.started": "2021-12-15T02:01:24.921587Z"
    },
    "tags": []
   },
   "outputs": [],
   "source": [
    "def solution_1(data):\n",
    "    diagram = []\n",
    "    for coordinate_pairs in data:\n",
    "        # horizontal line\n",
    "        if coordinate_pairs[0][0] == coordinate_pairs[1][0]:\n",
    "            diagram.extend(generate_line_coordinates(coordinate_pairs))\n",
    "        # vertical line\n",
    "        elif coordinate_pairs[0][1] == coordinate_pairs[1][1]:\n",
    "            diagram.extend(generate_line_coordinates(coordinate_pairs))\n",
    "\n",
    "    counts_dict = Counter(diagram)\n",
    "    duplicated_coordinates = {key: value for key, value in counts_dict.items() if value >= 2}\n",
    "\n",
    "    return len(duplicated_coordinates)\n",
    "\n",
    "\n",
    "def solution_2(data):\n",
    "    diagram = []\n",
    "    for coordinate_pairs in data:\n",
    "        # horizontal line\n",
    "        if coordinate_pairs[0][0] == coordinate_pairs[1][0]:\n",
    "            diagram.extend(generate_line_coordinates(coordinate_pairs))\n",
    "        # vertical line\n",
    "        elif coordinate_pairs[0][1] == coordinate_pairs[1][1]:\n",
    "            diagram.extend(generate_line_coordinates(coordinate_pairs))\n",
    "        # diagonal line\n",
    "        elif abs(coordinate_pairs[0][0] - coordinate_pairs[1][0]) == abs(\n",
    "            coordinate_pairs[0][1] - coordinate_pairs[1][1]\n",
    "        ):\n",
    "            diagram.extend(generate_line_coordinates(coordinate_pairs, diagonal=True))\n",
    "\n",
    "    counts_dict = Counter(diagram)\n",
    "    duplicated_coordinates = {key: value for key, value in counts_dict.items() if value >= 2}\n",
    "\n",
    "    return len(duplicated_coordinates)"
   ]
  },
  {
   "cell_type": "code",
   "execution_count": 6,
   "id": "67b7049d-1e99-4ecd-9d41-c3f96e9b0ca4",
   "metadata": {
    "execution": {
     "iopub.execute_input": "2021-12-15T02:01:24.930191Z",
     "iopub.status.busy": "2021-12-15T02:01:24.929877Z",
     "iopub.status.idle": "2021-12-15T02:01:25.118490Z",
     "shell.execute_reply": "2021-12-15T02:01:25.118040Z",
     "shell.execute_reply.started": "2021-12-15T02:01:24.930110Z"
    },
    "tags": []
   },
   "outputs": [
    {
     "name": "stdout",
     "output_type": "stream",
     "text": [
      "4826\n",
      "16793\n"
     ]
    }
   ],
   "source": [
    "print(solution_1(cleaned_data))  # 4826\n",
    "print(solution_2(cleaned_data))  # 16793"
   ]
  }
 ],
 "metadata": {
  "kernelspec": {
   "display_name": "sally_gg",
   "language": "python",
   "name": "sally_gg"
  },
  "language_info": {
   "codemirror_mode": {
    "name": "ipython",
    "version": 3
   },
   "file_extension": ".py",
   "mimetype": "text/x-python",
   "name": "python",
   "nbconvert_exporter": "python",
   "pygments_lexer": "ipython3",
   "version": "3.9.6"
  },
  "widgets": {
   "application/vnd.jupyter.widget-state+json": {
    "state": {},
    "version_major": 2,
    "version_minor": 0
   }
  }
 },
 "nbformat": 4,
 "nbformat_minor": 5
}
