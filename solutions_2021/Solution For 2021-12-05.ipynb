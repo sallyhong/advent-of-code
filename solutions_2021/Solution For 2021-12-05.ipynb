{
 "cells": [
  {
   "cell_type": "code",
   "execution_count": 1,
   "id": "21553c95-c140-46a1-b853-47aede988ec3",
   "metadata": {
    "execution": {
     "iopub.execute_input": "2021-12-15T02:02:45.242623Z",
     "iopub.status.busy": "2021-12-15T02:02:45.241496Z",
     "iopub.status.idle": "2021-12-15T02:02:45.245992Z",
     "shell.execute_reply": "2021-12-15T02:02:45.245356Z",
     "shell.execute_reply.started": "2021-12-15T02:02:45.242598Z"
    },
    "tags": []
   },
   "outputs": [],
   "source": [
    "input_location = \"inputs/input_20211205.txt\"\n",
    "\n",
    "with open(input_location) as f:\n",
    "    data = f.read().splitlines()\n",
    "    \n",
    "from collections import Counter"
   ]
  },
  {
   "cell_type": "code",
   "execution_count": 2,
   "id": "5bb9b79d-4ef9-4e19-9a9a-c36e2178a54b",
   "metadata": {
    "execution": {
     "iopub.execute_input": "2021-12-15T02:02:45.247732Z",
     "iopub.status.busy": "2021-12-15T02:02:45.247171Z",
     "iopub.status.idle": "2021-12-15T02:02:45.254101Z",
     "shell.execute_reply": "2021-12-15T02:02:45.252129Z",
     "shell.execute_reply.started": "2021-12-15T02:02:45.247685Z"
    },
    "tags": []
   },
   "outputs": [],
   "source": [
    "cleaned_data = []\n",
    "for str_line in data:\n",
    "    split_line = str_line.split(\" -> \")\n",
    "\n",
    "    first_tuple = [int(num) for num in (split_line[0].split(\",\"))]\n",
    "    second_tuple = [int(num) for num in (split_line[1].split(\",\"))]\n",
    "\n",
    "    cleaned_data.append((first_tuple, second_tuple))"
   ]
  },
  {
   "cell_type": "code",
   "execution_count": 3,
   "id": "936b56b2-529f-4106-9129-37f2753d3b9e",
   "metadata": {
    "execution": {
     "iopub.execute_input": "2021-12-15T02:02:45.256409Z",
     "iopub.status.busy": "2021-12-15T02:02:45.255173Z",
     "iopub.status.idle": "2021-12-15T02:02:45.262224Z",
     "shell.execute_reply": "2021-12-15T02:02:45.261499Z",
     "shell.execute_reply.started": "2021-12-15T02:02:45.256372Z"
    },
    "tags": []
   },
   "outputs": [],
   "source": [
    "def generate_line_coordinates(coordinate_pairs, diagonal=False):\n",
    "    line_coordinates = []\n",
    "\n",
    "    min_x, max_x = min([x[0] for x in coordinate_pairs]), max([x[0] for x in coordinate_pairs])\n",
    "    min_y, max_y = min([x[1] for x in coordinate_pairs]), max([x[1] for x in coordinate_pairs])\n",
    "\n",
    "    if not diagonal:\n",
    "        for x in range(min_x, max_x + 1):\n",
    "            for y in range(min_y, max_y + 1):\n",
    "                line_coordinates.append((x, y))\n",
    "\n",
    "    else:\n",
    "        shift_direction = (coordinate_pairs[0][0] - coordinate_pairs[1][0]) / (\n",
    "            coordinate_pairs[0][1] - coordinate_pairs[1][1]\n",
    "        )\n",
    "        shift = 0\n",
    "        for i in range(min_x, max_x + 1):\n",
    "            if shift_direction > 0:\n",
    "                line_coordinates.append((i, min_y + shift))\n",
    "            else:\n",
    "                line_coordinates.append((i, max_y + shift))\n",
    "\n",
    "            shift += shift_direction\n",
    "\n",
    "    return line_coordinates"
   ]
  },
  {
   "cell_type": "code",
   "execution_count": 4,
   "id": "c575afb7-f9a7-4015-859a-c1fa9aa36c7c",
   "metadata": {
    "execution": {
     "iopub.execute_input": "2021-12-15T02:02:45.265088Z",
     "iopub.status.busy": "2021-12-15T02:02:45.263697Z",
     "iopub.status.idle": "2021-12-15T02:02:45.272193Z",
     "shell.execute_reply": "2021-12-15T02:02:45.271564Z",
     "shell.execute_reply.started": "2021-12-15T02:02:45.265053Z"
    },
    "tags": []
   },
   "outputs": [],
   "source": [
    "def solution_1(data):\n",
    "    diagram = []\n",
    "    for coordinate_pairs in data:\n",
    "        # horizontal line\n",
    "        if coordinate_pairs[0][0] == coordinate_pairs[1][0]:\n",
    "            diagram.extend(generate_line_coordinates(coordinate_pairs))\n",
    "        # vertical line\n",
    "        elif coordinate_pairs[0][1] == coordinate_pairs[1][1]:\n",
    "            diagram.extend(generate_line_coordinates(coordinate_pairs))\n",
    "\n",
    "    counts_dict = Counter(diagram)\n",
    "    duplicated_coordinates = {key: value for key, value in counts_dict.items() if value >= 2}\n",
    "\n",
    "    return len(duplicated_coordinates)\n",
    "\n",
    "\n",
    "def solution_2(data):\n",
    "    diagram = []\n",
    "    for coordinate_pairs in data:\n",
    "        # horizontal line\n",
    "        if coordinate_pairs[0][0] == coordinate_pairs[1][0]:\n",
    "            diagram.extend(generate_line_coordinates(coordinate_pairs))\n",
    "        # vertical line\n",
    "        elif coordinate_pairs[0][1] == coordinate_pairs[1][1]:\n",
    "            diagram.extend(generate_line_coordinates(coordinate_pairs))\n",
    "        # diagonal line\n",
    "        elif abs(coordinate_pairs[0][0] - coordinate_pairs[1][0]) == abs(\n",
    "            coordinate_pairs[0][1] - coordinate_pairs[1][1]\n",
    "        ):\n",
    "            diagram.extend(generate_line_coordinates(coordinate_pairs, diagonal=True))\n",
    "\n",
    "    counts_dict = Counter(diagram)\n",
    "    duplicated_coordinates = {key: value for key, value in counts_dict.items() if value >= 2}\n",
    "\n",
    "    return len(duplicated_coordinates)"
   ]
  },
  {
   "cell_type": "code",
   "execution_count": 5,
   "id": "67b7049d-1e99-4ecd-9d41-c3f96e9b0ca4",
   "metadata": {
    "execution": {
     "iopub.execute_input": "2021-12-15T02:02:45.276461Z",
     "iopub.status.busy": "2021-12-15T02:02:45.273387Z",
     "iopub.status.idle": "2021-12-15T02:02:45.455126Z",
     "shell.execute_reply": "2021-12-15T02:02:45.454572Z",
     "shell.execute_reply.started": "2021-12-15T02:02:45.276425Z"
    },
    "tags": []
   },
   "outputs": [
    {
     "name": "stdout",
     "output_type": "stream",
     "text": [
      "4826\n",
      "16793\n"
     ]
    }
   ],
   "source": [
    "print(solution_1(cleaned_data))  # 4826\n",
    "print(solution_2(cleaned_data))  # 16793"
   ]
  }
 ],
 "metadata": {
  "kernelspec": {
   "display_name": "sally_gg",
   "language": "python",
   "name": "sally_gg"
  },
  "language_info": {
   "codemirror_mode": {
    "name": "ipython",
    "version": 3
   },
   "file_extension": ".py",
   "mimetype": "text/x-python",
   "name": "python",
   "nbconvert_exporter": "python",
   "pygments_lexer": "ipython3",
   "version": "3.9.6"
  },
  "widgets": {
   "application/vnd.jupyter.widget-state+json": {
    "state": {},
    "version_major": 2,
    "version_minor": 0
   }
  }
 },
 "nbformat": 4,
 "nbformat_minor": 5
}
