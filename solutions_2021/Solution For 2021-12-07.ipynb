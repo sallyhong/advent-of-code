{
 "cells": [
  {
   "cell_type": "code",
   "execution_count": 1,
   "id": "21553c95-c140-46a1-b853-47aede988ec3",
   "metadata": {
    "execution": {
     "iopub.execute_input": "2021-12-15T04:16:21.267893Z",
     "iopub.status.busy": "2021-12-15T04:16:21.267224Z",
     "iopub.status.idle": "2021-12-15T04:16:21.272393Z",
     "shell.execute_reply": "2021-12-15T04:16:21.271422Z",
     "shell.execute_reply.started": "2021-12-15T04:16:21.267859Z"
    },
    "tags": []
   },
   "outputs": [],
   "source": [
    "input_location = \"inputs/input_20211207.txt\"\n",
    "\n",
    "with open(input_location) as f:\n",
    "    data = f.read().splitlines()"
   ]
  },
  {
   "cell_type": "code",
   "execution_count": 2,
   "id": "d9f9fb67-4f2d-486c-a71c-9cf52c80ed17",
   "metadata": {
    "execution": {
     "iopub.execute_input": "2021-12-15T04:16:21.273464Z",
     "iopub.status.busy": "2021-12-15T04:16:21.273190Z",
     "iopub.status.idle": "2021-12-15T04:16:21.280300Z",
     "shell.execute_reply": "2021-12-15T04:16:21.279774Z",
     "shell.execute_reply.started": "2021-12-15T04:16:21.273439Z"
    },
    "tags": []
   },
   "outputs": [],
   "source": [
    "def clean_data(data):\n",
    "    data = [int(x) for x in data[0].split(\",\")]\n",
    "    return data\n",
    "\n",
    "cleaned_data = clean_data(data)\n",
    "temp_data = clean_data([\"16,1,2,0,4,2,7,1,2,14\"])"
   ]
  },
  {
   "cell_type": "code",
   "execution_count": 3,
   "id": "107032d0-0bdc-4db8-8903-8594aa6d684f",
   "metadata": {
    "execution": {
     "iopub.execute_input": "2021-12-15T04:16:21.281344Z",
     "iopub.status.busy": "2021-12-15T04:16:21.281135Z",
     "iopub.status.idle": "2021-12-15T04:16:21.288383Z",
     "shell.execute_reply": "2021-12-15T04:16:21.285298Z",
     "shell.execute_reply.started": "2021-12-15T04:16:21.281323Z"
    }
   },
   "outputs": [],
   "source": [
    "fib_dict = {0:0, 1:1, 2:3, 3:6}\n",
    "\n",
    "def find_fib_fuel(steps):\n",
    "    if steps in fib_dict:\n",
    "        return fib_dict[steps]\n",
    "    \n",
    "    max_fib_dict = max(fib_dict.keys())\n",
    "    for i in range(max_fib_dict+1, steps+1):\n",
    "        fib_dict[i] = fib_dict[i-1] + i\n",
    "    \n",
    "    return fib_dict[steps]\n"
   ]
  },
  {
   "cell_type": "code",
   "execution_count": 4,
   "id": "0ec7e4db-2409-4eda-81a6-d9b7da467add",
   "metadata": {
    "execution": {
     "iopub.execute_input": "2021-12-15T04:16:21.290802Z",
     "iopub.status.busy": "2021-12-15T04:16:21.289593Z",
     "iopub.status.idle": "2021-12-15T04:16:21.298220Z",
     "shell.execute_reply": "2021-12-15T04:16:21.296187Z",
     "shell.execute_reply.started": "2021-12-15T04:16:21.290764Z"
    },
    "tags": []
   },
   "outputs": [],
   "source": [
    "def solution_1(data):\n",
    "    lowest_fuel = float(\"inf\")\n",
    "\n",
    "    for i in range(min(data), max(data)+1):\n",
    "        fuel_cost = 0\n",
    "        for crab in data:\n",
    "            fuel_cost += abs(crab - i)\n",
    "        \n",
    "        if fuel_cost < lowest_fuel:\n",
    "            lowest_fuel = fuel_cost\n",
    "        else:\n",
    "            return lowest_fuel\n",
    "        \n",
    "\n",
    "def solution_2(data):\n",
    "    lowest_fuel = float(\"inf\")\n",
    "\n",
    "    for i in range(min(data), max(data)+1):\n",
    "        fuel_cost = 0\n",
    "        for crab in data:\n",
    "            fuel_cost += find_fib_fuel(abs(crab - i))\n",
    "        \n",
    "        if fuel_cost < lowest_fuel:\n",
    "            lowest_fuel = fuel_cost\n",
    "        else:\n",
    "            return lowest_fuel"
   ]
  },
  {
   "cell_type": "code",
   "execution_count": 5,
   "id": "3493ccec-9149-4802-99c4-988c4dc73b9b",
   "metadata": {
    "execution": {
     "iopub.execute_input": "2021-12-15T04:16:21.300061Z",
     "iopub.status.busy": "2021-12-15T04:16:21.299388Z",
     "iopub.status.idle": "2021-12-15T04:16:21.468261Z",
     "shell.execute_reply": "2021-12-15T04:16:21.467785Z",
     "shell.execute_reply.started": "2021-12-15T04:16:21.300032Z"
    },
    "tags": []
   },
   "outputs": [
    {
     "name": "stdout",
     "output_type": "stream",
     "text": [
      "343605\n",
      "96744904\n"
     ]
    }
   ],
   "source": [
    "print(solution_1(cleaned_data))  # 343605\n",
    "print(solution_2(cleaned_data))  # 96744904"
   ]
  }
 ],
 "metadata": {
  "kernelspec": {
   "display_name": "sally_gg",
   "language": "python",
   "name": "sally_gg"
  },
  "language_info": {
   "codemirror_mode": {
    "name": "ipython",
    "version": 3
   },
   "file_extension": ".py",
   "mimetype": "text/x-python",
   "name": "python",
   "nbconvert_exporter": "python",
   "pygments_lexer": "ipython3",
   "version": "3.9.6"
  },
  "widgets": {
   "application/vnd.jupyter.widget-state+json": {
    "state": {},
    "version_major": 2,
    "version_minor": 0
   }
  }
 },
 "nbformat": 4,
 "nbformat_minor": 5
}
