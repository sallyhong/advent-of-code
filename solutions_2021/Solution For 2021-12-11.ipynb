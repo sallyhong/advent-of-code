{
 "cells": [
  {
   "cell_type": "code",
   "execution_count": 1,
   "id": "21553c95-c140-46a1-b853-47aede988ec3",
   "metadata": {
    "execution": {
     "iopub.execute_input": "2021-12-16T15:43:20.605203Z",
     "iopub.status.busy": "2021-12-16T15:43:20.604962Z",
     "iopub.status.idle": "2021-12-16T15:43:20.612355Z",
     "shell.execute_reply": "2021-12-16T15:43:20.611787Z",
     "shell.execute_reply.started": "2021-12-16T15:43:20.605160Z"
    },
    "tags": []
   },
   "outputs": [],
   "source": [
    "input_location = \"inputs/input_20211211.txt\"\n",
    "\n",
    "with open(input_location) as f:\n",
    "    data = f.read().splitlines()"
   ]
  },
  {
   "cell_type": "code",
   "execution_count": 2,
   "id": "a72f5ebd-1977-4b28-9bef-be6d8699f507",
   "metadata": {
    "execution": {
     "iopub.execute_input": "2021-12-16T15:43:20.613522Z",
     "iopub.status.busy": "2021-12-16T15:43:20.613252Z",
     "iopub.status.idle": "2021-12-16T15:43:20.625716Z",
     "shell.execute_reply": "2021-12-16T15:43:20.625290Z",
     "shell.execute_reply.started": "2021-12-16T15:43:20.613497Z"
    },
    "tags": []
   },
   "outputs": [],
   "source": [
    "########## HELPER FUNCTIONS ##########\n",
    "\n",
    "\n",
    "def pad_map(data, i=float(\"-inf\")):\n",
    "    \"\"\"\n",
    "    Pads the heatmap with -inf's at the top and bottom and sides with -inf's\n",
    "    \"\"\"\n",
    "    padded_map = []\n",
    "    for row in data:\n",
    "        padded_row = [i] + row + [i]\n",
    "        padded_map.append(padded_row)\n",
    "    top_bottom_rows = [i] * len(padded_map[0])\n",
    "    padded_map.insert(0, top_bottom_rows)\n",
    "    padded_map.append(top_bottom_rows)\n",
    "\n",
    "    return padded_map\n",
    "\n",
    "\n",
    "def convert_data_to_map(data):\n",
    "    oct_map = []\n",
    "    for row in data:\n",
    "        cleaned_row = [int(x) for x in row]\n",
    "        oct_map.append(cleaned_row)\n",
    "\n",
    "    padded_oct_map = pad_map(oct_map)\n",
    "    return padded_oct_map\n",
    "\n",
    "\n",
    "def return_adjacent_coordinates(base_coordinate):\n",
    "    \"\"\"\n",
    "    Given a coorindate (x,y) return all the coordinates that are adjacent to it\n",
    "    \"\"\"\n",
    "    x, y = base_coordinate\n",
    "    adjacent_coordinates = []\n",
    "    for i in range(-1, 2):\n",
    "        for j in range(-1, 2):\n",
    "            # do not add for coordinate\n",
    "            if i == 0 and j == 0:\n",
    "                continue\n",
    "            adjacent_coordinates.append((x + i, y + j))\n",
    "    return adjacent_coordinates\n",
    "\n",
    "\n",
    "def process_single_step(oct_map):\n",
    "    \"\"\"\n",
    "    Mechanics for running a single step\n",
    "    \"\"\"\n",
    "    for x in range(1, len(oct_map) - 1):\n",
    "        for y in range(1, len(oct_map) - 1):\n",
    "            oct_map[x][y] += 1\n",
    "\n",
    "    flashes_remaining = True\n",
    "    flash_count = 0\n",
    "\n",
    "    # basically loop through the oct_map for that step until there are no other changes\n",
    "    while flashes_remaining:\n",
    "        oct_map_copy = [oct_row[:] for oct_row in oct_map]  # keep reference\n",
    "\n",
    "        for x in range(1, len(oct_map) - 1):\n",
    "            for y in range(1, len(oct_map) - 1):\n",
    "                single_oct_energy = oct_map[x][y]\n",
    "                if single_oct_energy >= 10:\n",
    "                    # get all the adjacent coordinates and increase by 1\n",
    "                    adjacent_coordinates = return_adjacent_coordinates((x, y))\n",
    "                    for adjacent_oct_coordinates in adjacent_coordinates:\n",
    "                        adj_x, adj_y = adjacent_oct_coordinates\n",
    "                        adjacent_oct_energy = oct_map[adj_x][adj_y]\n",
    "                        if adjacent_oct_energy > 0:  # basically leave alone if it's -inf or 0\n",
    "                            oct_map[adj_x][adj_y] += 1\n",
    "                    oct_map[x][y] = 0\n",
    "                    flash_count += 1\n",
    "\n",
    "        # no further updates means excit out of the loop\n",
    "        if oct_map_copy == oct_map:\n",
    "            flashes_remaining = False\n",
    "\n",
    "    return (oct_map, flash_count)"
   ]
  },
  {
   "cell_type": "code",
   "execution_count": 3,
   "id": "7ec29b10-d6b1-441e-bfab-ea09ae4a652c",
   "metadata": {
    "execution": {
     "iopub.execute_input": "2021-12-16T15:43:20.626606Z",
     "iopub.status.busy": "2021-12-16T15:43:20.626356Z",
     "iopub.status.idle": "2021-12-16T15:43:20.630003Z",
     "shell.execute_reply": "2021-12-16T15:43:20.629590Z",
     "shell.execute_reply.started": "2021-12-16T15:43:20.626589Z"
    },
    "tags": []
   },
   "outputs": [],
   "source": [
    "########## SOLUTION ##########\n",
    "\n",
    "\n",
    "def solution_1(data, days):\n",
    "    oct_map = convert_data_to_map(data)\n",
    "    total_flash_counts = 0\n",
    "\n",
    "    for i in range(1, days + 1):\n",
    "        oct_map, flash_count = process_single_step(oct_map)\n",
    "        total_flash_counts += flash_count\n",
    "\n",
    "    return total_flash_counts\n",
    "\n",
    "\n",
    "def solution_2(data):\n",
    "    oct_map = convert_data_to_map(data)\n",
    "    flash_count, steps = 0, 0\n",
    "\n",
    "    # basically keep running until there are total of 100 flashes\n",
    "    while flash_count < 100:\n",
    "        oct_map, flash_count = process_single_step(oct_map)\n",
    "        steps += 1\n",
    "\n",
    "    return steps"
   ]
  },
  {
   "cell_type": "code",
   "execution_count": 4,
   "id": "7fe6f85b-d94d-4ca3-9e68-5e7bb26ffa69",
   "metadata": {
    "execution": {
     "iopub.execute_input": "2021-12-16T15:43:20.631069Z",
     "iopub.status.busy": "2021-12-16T15:43:20.630776Z",
     "iopub.status.idle": "2021-12-16T15:43:20.672790Z",
     "shell.execute_reply": "2021-12-16T15:43:20.672004Z",
     "shell.execute_reply.started": "2021-12-16T15:43:20.631053Z"
    },
    "tags": []
   },
   "outputs": [
    {
     "name": "stdout",
     "output_type": "stream",
     "text": [
      "1644\n",
      "229\n"
     ]
    }
   ],
   "source": [
    "########## OUTPUT ##########\n",
    "\n",
    "print(solution_1(data, 100))  # 1644\n",
    "print(solution_2(data))       # 229"
   ]
  }
 ],
 "metadata": {
  "kernelspec": {
   "display_name": "sally_gg",
   "language": "python",
   "name": "sally_gg"
  },
  "language_info": {
   "codemirror_mode": {
    "name": "ipython",
    "version": 3
   },
   "file_extension": ".py",
   "mimetype": "text/x-python",
   "name": "python",
   "nbconvert_exporter": "python",
   "pygments_lexer": "ipython3",
   "version": "3.9.6"
  },
  "widgets": {
   "application/vnd.jupyter.widget-state+json": {
    "state": {},
    "version_major": 2,
    "version_minor": 0
   }
  }
 },
 "nbformat": 4,
 "nbformat_minor": 5
}
