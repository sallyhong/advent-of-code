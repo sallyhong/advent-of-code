{
 "cells": [
  {
   "cell_type": "code",
   "execution_count": 1,
   "id": "21553c95-c140-46a1-b853-47aede988ec3",
   "metadata": {
    "execution": {
     "iopub.execute_input": "2021-12-16T05:47:19.221838Z",
     "iopub.status.busy": "2021-12-16T05:47:19.221647Z",
     "iopub.status.idle": "2021-12-16T05:47:19.228338Z",
     "shell.execute_reply": "2021-12-16T05:47:19.227720Z",
     "shell.execute_reply.started": "2021-12-16T05:47:19.221821Z"
    },
    "tags": []
   },
   "outputs": [],
   "source": [
    "input_location = \"inputs/input_20211211.txt\"\n",
    "\n",
    "with open(input_location) as f:\n",
    "    data = f.read().splitlines()"
   ]
  },
  {
   "cell_type": "code",
   "execution_count": 2,
   "id": "a72f5ebd-1977-4b28-9bef-be6d8699f507",
   "metadata": {
    "execution": {
     "iopub.execute_input": "2021-12-16T05:47:19.229629Z",
     "iopub.status.busy": "2021-12-16T05:47:19.229396Z",
     "iopub.status.idle": "2021-12-16T05:47:19.241790Z",
     "shell.execute_reply": "2021-12-16T05:47:19.241063Z",
     "shell.execute_reply.started": "2021-12-16T05:47:19.229610Z"
    },
    "tags": []
   },
   "outputs": [],
   "source": [
    "########## HELPER FUNCTIONS ##########\n",
    "\n",
    "\n",
    "def pad_map(data, i=float(\"-inf\")):\n",
    "    \"\"\"\n",
    "    Pads the heatmap with -inf's at the top and bottom and sides with -inf's\n",
    "    \"\"\"\n",
    "    padded_map = []\n",
    "    for row in data:\n",
    "        padded_row = [i] + row + [i]\n",
    "        padded_map.append(padded_row)\n",
    "    top_bottom_rows = [i] * len(padded_map[0])\n",
    "    padded_map.insert(0, top_bottom_rows)\n",
    "    padded_map.append(top_bottom_rows)\n",
    "\n",
    "    return padded_map\n",
    "\n",
    "\n",
    "def convert_data_to_map(data):\n",
    "    fish_map = []\n",
    "    for row in data:\n",
    "        cleaned_row = [int(x) for x in row]\n",
    "        fish_map.append(cleaned_row)\n",
    "\n",
    "    padded_fish_map = pad_map(fish_map)\n",
    "    return padded_fish_map\n",
    "\n",
    "\n",
    "def return_adjacent_coordinates(base_coordinate):\n",
    "    \"\"\"\n",
    "    Given a coorindate (x,y) return all the coordinates that are adjacent to it\n",
    "    \"\"\"\n",
    "    x, y = base_coordinate\n",
    "    adjacent_coordinates = []\n",
    "    for i in range(-1, 2):\n",
    "        for j in range(-1, 2):\n",
    "            # do not add for coordinate\n",
    "            if i == 0 and j == 0:\n",
    "                continue\n",
    "            adjacent_coordinates.append((x + i, y + j))\n",
    "    return adjacent_coordinates\n",
    "\n",
    "\n",
    "def process_single_step(fish_map):\n",
    "    \"\"\"\n",
    "    Mechanics for running a single step\n",
    "    \"\"\"\n",
    "    for x in range(1, len(fish_map) - 1):\n",
    "        for y in range(1, len(fish_map) - 1):\n",
    "            fish_map[x][y] += 1\n",
    "\n",
    "    flashes_remaining = True\n",
    "    flash_count = 0\n",
    "\n",
    "    # basically loop through the fish_map for that step until there are no other changes\n",
    "    while flashes_remaining:\n",
    "        fish_map_copy = [fish_row[:] for fish_row in fish_map]  # keep reference\n",
    "\n",
    "        for x in range(1, len(fish_map) - 1):\n",
    "            for y in range(1, len(fish_map) - 1):\n",
    "                single_oct_energy = fish_map[x][y]\n",
    "                if single_oct_energy >= 10:\n",
    "                    # get all the adjacent coordinates and increase by 1\n",
    "                    adjacent_coordinates = return_adjacent_coordinates((x, y))\n",
    "                    for adjacent_oct_coordinates in adjacent_coordinates:\n",
    "                        adj_x, adj_y = adjacent_oct_coordinates\n",
    "                        adjacent_oct_energy = fish_map[adj_x][adj_y]\n",
    "                        if adjacent_oct_energy > 0:  # basically leave alone if it's -inf or 0\n",
    "                            fish_map[adj_x][adj_y] += 1\n",
    "                    fish_map[x][y] = 0\n",
    "                    flash_count += 1\n",
    "\n",
    "        # no further updates means excit out of the loop\n",
    "        if fish_map_copy == fish_map:\n",
    "            flashes_remaining = False\n",
    "\n",
    "    return (fish_map, flash_count)"
   ]
  },
  {
   "cell_type": "code",
   "execution_count": 3,
   "id": "7ec29b10-d6b1-441e-bfab-ea09ae4a652c",
   "metadata": {
    "execution": {
     "iopub.execute_input": "2021-12-16T05:47:19.243024Z",
     "iopub.status.busy": "2021-12-16T05:47:19.242785Z",
     "iopub.status.idle": "2021-12-16T05:47:19.246926Z",
     "shell.execute_reply": "2021-12-16T05:47:19.246328Z",
     "shell.execute_reply.started": "2021-12-16T05:47:19.243004Z"
    },
    "tags": []
   },
   "outputs": [],
   "source": [
    "########## SOLUTION ##########\n",
    "\n",
    "\n",
    "def solution_1(data, days):\n",
    "    fish_map = convert_data_to_map(data)\n",
    "    total_flash_counts = 0\n",
    "\n",
    "    for i in range(1, days + 1):\n",
    "        fish_map, flash_count = process_single_step(fish_map)\n",
    "        total_flash_counts += flash_count\n",
    "\n",
    "    return total_flash_counts\n",
    "\n",
    "\n",
    "def solution_2(data):\n",
    "    fish_map = convert_data_to_map(data)\n",
    "    flash_count, steps = 0, 0\n",
    "\n",
    "    # basically keep running until there are total of 100 flashes\n",
    "    while flash_count < 100:\n",
    "        fish_map, flash_count = process_single_step(fish_map)\n",
    "        steps += 1\n",
    "\n",
    "    return steps"
   ]
  },
  {
   "cell_type": "code",
   "execution_count": 4,
   "id": "7fe6f85b-d94d-4ca3-9e68-5e7bb26ffa69",
   "metadata": {
    "execution": {
     "iopub.execute_input": "2021-12-16T05:47:19.248314Z",
     "iopub.status.busy": "2021-12-16T05:47:19.247954Z",
     "iopub.status.idle": "2021-12-16T05:47:19.289007Z",
     "shell.execute_reply": "2021-12-16T05:47:19.288535Z",
     "shell.execute_reply.started": "2021-12-16T05:47:19.248295Z"
    },
    "tags": []
   },
   "outputs": [
    {
     "name": "stdout",
     "output_type": "stream",
     "text": [
      "1644\n",
      "229\n"
     ]
    }
   ],
   "source": [
    "########## OUTPUT ##########\n",
    "\n",
    "print(solution_1(data, 100))  # 1644\n",
    "print(solution_2(data))  # 229"
   ]
  }
 ],
 "metadata": {
  "kernelspec": {
   "display_name": "sally_gg",
   "language": "python",
   "name": "sally_gg"
  },
  "language_info": {
   "codemirror_mode": {
    "name": "ipython",
    "version": 3
   },
   "file_extension": ".py",
   "mimetype": "text/x-python",
   "name": "python",
   "nbconvert_exporter": "python",
   "pygments_lexer": "ipython3",
   "version": "3.9.6"
  },
  "widgets": {
   "application/vnd.jupyter.widget-state+json": {
    "state": {},
    "version_major": 2,
    "version_minor": 0
   }
  }
 },
 "nbformat": 4,
 "nbformat_minor": 5
}
