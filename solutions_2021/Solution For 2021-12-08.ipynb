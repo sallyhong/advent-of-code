{
 "cells": [
  {
   "cell_type": "code",
   "execution_count": 1,
   "id": "21553c95-c140-46a1-b853-47aede988ec3",
   "metadata": {
    "execution": {
     "iopub.execute_input": "2021-12-15T05:51:47.587286Z",
     "iopub.status.busy": "2021-12-15T05:51:47.587041Z",
     "iopub.status.idle": "2021-12-15T05:51:47.593941Z",
     "shell.execute_reply": "2021-12-15T05:51:47.592873Z",
     "shell.execute_reply.started": "2021-12-15T05:51:47.587247Z"
    },
    "tags": []
   },
   "outputs": [],
   "source": [
    "input_location = \"inputs/input_20211208.txt\"\n",
    "\n",
    "with open(input_location) as f:\n",
    "    data = f.read().splitlines()"
   ]
  },
  {
   "cell_type": "code",
   "execution_count": 7,
   "id": "df7342bb-d0b5-4c52-a967-fa4a7abb5276",
   "metadata": {
    "execution": {
     "iopub.execute_input": "2021-12-15T05:59:13.363944Z",
     "iopub.status.busy": "2021-12-15T05:59:13.363725Z",
     "iopub.status.idle": "2021-12-15T05:59:13.367459Z",
     "shell.execute_reply": "2021-12-15T05:59:13.366941Z",
     "shell.execute_reply.started": "2021-12-15T05:59:13.363922Z"
    },
    "tags": []
   },
   "outputs": [],
   "source": [
    "special_digits = {2:1, 4:4, 3:7, 7:8} # key: how many on, value: digit\n",
    "\n",
    "def decode_signal(signal_bool_dict, output):\n",
    "    output_num = list(signal_bool_dict.keys())\n",
    "    output_signal = list(signal_bool_dict.values())\n",
    "    \n",
    "    return str(output_num[output_signal.index(output)])"
   ]
  },
  {
   "cell_type": "code",
   "execution_count": 35,
   "id": "669e8682-b644-4fca-8bfa-ec73e794c3cd",
   "metadata": {
    "execution": {
     "iopub.execute_input": "2021-12-15T06:01:45.026264Z",
     "iopub.status.busy": "2021-12-15T06:01:45.026034Z",
     "iopub.status.idle": "2021-12-15T06:01:45.032858Z",
     "shell.execute_reply": "2021-12-15T06:01:45.032364Z",
     "shell.execute_reply.started": "2021-12-15T06:01:45.026246Z"
    },
    "tags": []
   },
   "outputs": [],
   "source": [
    "\n",
    "def solution_1(data):\n",
    "    digit_count_dict = {1:0, 4:0, 7:0, 8:0}\n",
    "    for row in data:\n",
    "        entry, output = row.split(\"|\")\n",
    "        for signal in output.split(\" \"):\n",
    "            signal_on_count = len(signal)\n",
    "            if signal_on_count in special_digits:\n",
    "                digit_count_dict[special_digits[signal_on_count]] += 1\n",
    "    return sum(digit_count_dict.values())\n",
    "\n",
    "def solution_2(data):\n",
    "    final_output_sum = 0\n",
    "    for row in data:\n",
    "        signal_bool_dict = {}\n",
    "        entry, outputs = row.split(\" | \")\n",
    "        entry_list = entry.split(\" \") \n",
    "\n",
    "        # do special digits first (1, 4, 7, 8)\n",
    "        for signal in entry_list[:]:\n",
    "            if len(signal) in special_digits:\n",
    "                signal_bool_dict[special_digits[len(signal)]] = set(signal)\n",
    "                entry_list.remove(signal)\n",
    "        \n",
    "        # get the 0 and 6 and 9\n",
    "        for signal in entry_list[:]:\n",
    "            if len(signal) == 6:\n",
    "                if signal_bool_dict[4].issubset(set(signal)):\n",
    "                    signal_bool_dict[9] = set(signal)\n",
    "                elif signal_bool_dict[1].issubset(set(signal)):\n",
    "                    signal_bool_dict[0] = set(signal)\n",
    "                else:\n",
    "                    signal_bool_dict[6] = set(signal)\n",
    "                entry_list.remove(signal)\n",
    "        \n",
    "        # get the rest\n",
    "        for signal in entry_list[:]:\n",
    "            if set(signal).issubset(signal_bool_dict[6]):\n",
    "                signal_bool_dict[5] = set(signal)\n",
    "            elif signal_bool_dict[1].issubset(set(signal)):\n",
    "                signal_bool_dict[3] = set(signal)\n",
    "            else:\n",
    "                signal_bool_dict[2] = set(signal)\n",
    "        \n",
    "        # now get the output\n",
    "        final_output = \"\"\n",
    "        for output in outputs.split(\" \"):\n",
    "            final_output += decode_signal(signal_bool_dict, set(output))\n",
    "            \n",
    "        final_output_sum += int(final_output)\n",
    "        \n",
    "    return final_output_sum"
   ]
  },
  {
   "cell_type": "code",
   "execution_count": 39,
   "id": "fc72e85a-1ec9-4d05-accc-3e5c6182018f",
   "metadata": {
    "execution": {
     "iopub.execute_input": "2021-12-15T06:02:02.154111Z",
     "iopub.status.busy": "2021-12-15T06:02:02.153859Z",
     "iopub.status.idle": "2021-12-15T06:02:02.160770Z",
     "shell.execute_reply": "2021-12-15T06:02:02.160356Z",
     "shell.execute_reply.started": "2021-12-15T06:02:02.154089Z"
    },
    "tags": []
   },
   "outputs": [
    {
     "name": "stdout",
     "output_type": "stream",
     "text": [
      "493\n",
      "1010460\n"
     ]
    }
   ],
   "source": [
    "print(solution_1(data))   # 493\n",
    "print(solution_2(data))   # 1010460"
   ]
  },
  {
   "cell_type": "code",
   "execution_count": 37,
   "id": "e95666fe-30f2-4c89-aafc-0ef855eb3597",
   "metadata": {
    "execution": {
     "iopub.execute_input": "2021-12-15T06:01:46.333374Z",
     "iopub.status.busy": "2021-12-15T06:01:46.333176Z",
     "iopub.status.idle": "2021-12-15T06:01:46.337100Z",
     "shell.execute_reply": "2021-12-15T06:01:46.336691Z",
     "shell.execute_reply.started": "2021-12-15T06:01:46.333353Z"
    },
    "tags": []
   },
   "outputs": [
    {
     "data": {
      "text/plain": [
       "['daegb gadbcf cgefda edcfagb dfg acefbd fdgab fg bdcfa fcgb | cdfgba fgbc dbfac gfadbc',\n",
       " 'bdfc dcbegf bf egfbcda gebad cfgaed bfe edfgc aegfcb gebdf | fb fb bcdfaeg fcgdeb']"
      ]
     },
     "execution_count": 37,
     "metadata": {},
     "output_type": "execute_result"
    }
   ],
   "source": [
    "solution_2(data[0:2])\n",
    "data[0:2]"
   ]
  },
  {
   "cell_type": "code",
   "execution_count": null,
   "id": "0ddf934f-fc05-4e17-a178-7e4d0ac13317",
   "metadata": {
    "execution": {
     "iopub.status.busy": "2021-12-15T05:51:47.613258Z",
     "iopub.status.idle": "2021-12-15T05:51:47.613650Z",
     "shell.execute_reply": "2021-12-15T05:51:47.613520Z",
     "shell.execute_reply.started": "2021-12-15T05:51:47.613507Z"
    },
    "tags": []
   },
   "outputs": [],
   "source": [
    "special_digits = {2:1, 4:4, 3:7, 7:8} # key: how many on, value: digit\n",
    "\n",
    "def solution_1(data):\n",
    "    digit_count_dict = {1:0, 4:0, 7:0, 8:0}\n",
    "    for row in data:\n",
    "        entry, output = row.split(\"|\")\n",
    "        for signal in output.split(\" \"):\n",
    "            signal_on_count = sum(convert_signal_to_bool(signal))\n",
    "            if signal_on_count in special_digits:\n",
    "                digit_count_dict[special_digits[signal_on_count]] += 1\n",
    "    return sum(digit_count_dict.values())\n",
    "            "
   ]
  },
  {
   "cell_type": "code",
   "execution_count": null,
   "id": "a8b13061-7a19-4237-bbf7-7ecbb5d88813",
   "metadata": {
    "execution": {
     "iopub.status.busy": "2021-12-15T05:51:47.614373Z",
     "iopub.status.idle": "2021-12-15T05:51:47.614752Z",
     "shell.execute_reply": "2021-12-15T05:51:47.614637Z",
     "shell.execute_reply.started": "2021-12-15T05:51:47.614625Z"
    },
    "tags": []
   },
   "outputs": [],
   "source": [
    "def solution_2(data):\n",
    "    signal_bool_dict = {}\n",
    "    for row in data:\n",
    "        entry, output = row.split(\"|\")\n",
    "        entry_list = entry.split(\" \") \n",
    "\n",
    "        # do special digits first\n",
    "        for signal in entry_list:\n",
    "            signal_bool = convert_signal_to_bool(signal)\n",
    "                signal_on_count = sum(signal_bool)\n",
    "                if signal_on_count in special_digits:\n",
    "                    signal_bool_dict[special_digits[signal_on_count]] = signal_bool\n",
    "        \n",
    "        \n",
    "        # if the letters for \"1\" is true\n",
    "        for signal in entry_list:\n",
    "            signal_bool = convert_signal_to_bool(signal)\n",
    "            \n",
    "        \n",
    "        \n",
    "        # now do 6 and 9\n",
    "        \n",
    "        \n",
    "        \n",
    "        \n",
    "        for signal in entry_list:\n",
    "            signal_bool = convert_signal_to_bool(signal)\n",
    "                signal_on_count = sum(signal_bool)\n",
    "                if signal_on_count == 8:\n",
    "                    a, b = signal_bool_dict[1], signal_bool\n",
    "                    if sum([a and b for a,b in zip(a,b)]) == 8:\n",
    "                        signal_bool_dict[9] = signal_bool\n",
    "                    else:\n",
    "                        signal_bool_dict[6] = signal_bool\n",
    "        \n",
    "        \n",
    "        \n",
    "        temp_count = 0\n",
    "        while len(signal_bool_dict) < 10:\n",
    "            for signal in entry.split(\" \"):\n",
    "                signal_bool = convert_signal_to_bool(signal)\n",
    "                signal_on_count = sum(signal_bool)\n",
    "                if signal_on_count in special_digits:\n",
    "                    signal_bool_dict[special_digits[signal_on_count]] = signal_bool\n",
    "                else:\n",
    "                    \n",
    "            temp_count += 1\n",
    "            if temp_count == 3:\n",
    "                print(signal_bool_dict)\n",
    "                return None\n",
    "            \n",
    "            "
   ]
  },
  {
   "cell_type": "code",
   "execution_count": null,
   "id": "96b3f19d-f732-48ed-a288-ea7c7b8281ff",
   "metadata": {
    "execution": {
     "iopub.status.busy": "2021-12-15T05:51:47.615483Z",
     "iopub.status.idle": "2021-12-15T05:51:47.615841Z",
     "shell.execute_reply": "2021-12-15T05:51:47.615726Z",
     "shell.execute_reply.started": "2021-12-15T05:51:47.615714Z"
    },
    "tags": []
   },
   "outputs": [],
   "source": [
    "a,b = [True, False, False], [True, True, False]\n",
    "[a and b for a,b in zip(a,b)]"
   ]
  },
  {
   "cell_type": "code",
   "execution_count": null,
   "id": "8ca0bfdb-cd81-462c-92b2-68972803370b",
   "metadata": {
    "execution": {
     "iopub.status.busy": "2021-12-15T05:51:47.616534Z",
     "iopub.status.idle": "2021-12-15T05:51:47.616813Z",
     "shell.execute_reply": "2021-12-15T05:51:47.616710Z",
     "shell.execute_reply.started": "2021-12-15T05:51:47.616699Z"
    },
    "tags": []
   },
   "outputs": [],
   "source": [
    "solution_2(data)"
   ]
  },
  {
   "cell_type": "code",
   "execution_count": null,
   "id": "d9f9fb67-4f2d-486c-a71c-9cf52c80ed17",
   "metadata": {
    "execution": {
     "iopub.status.busy": "2021-12-15T05:51:47.617723Z",
     "iopub.status.idle": "2021-12-15T05:51:47.618129Z",
     "shell.execute_reply": "2021-12-15T05:51:47.618001Z",
     "shell.execute_reply.started": "2021-12-15T05:51:47.617984Z"
    },
    "tags": []
   },
   "outputs": [],
   "source": [
    "def clean_data(data):\n",
    "    data = [int(x) for x in data[0].split(\",\")]\n",
    "    return data\n",
    "\n",
    "cleaned_data = clean_data(data)\n",
    "temp_data = clean_data([\"16,1,2,0,4,2,7,1,2,14\"])"
   ]
  },
  {
   "cell_type": "code",
   "execution_count": null,
   "id": "107032d0-0bdc-4db8-8903-8594aa6d684f",
   "metadata": {
    "execution": {
     "iopub.status.busy": "2021-12-15T05:51:47.619040Z",
     "iopub.status.idle": "2021-12-15T05:51:47.619330Z",
     "shell.execute_reply": "2021-12-15T05:51:47.619210Z",
     "shell.execute_reply.started": "2021-12-15T05:51:47.619197Z"
    }
   },
   "outputs": [],
   "source": [
    "fib_dict = {0:0, 1:1, 2:3, 3:6}\n",
    "\n",
    "def find_fib_fuel(steps):\n",
    "    if steps in fib_dict:\n",
    "        return fib_dict[steps]\n",
    "    \n",
    "    max_fib_dict = max(fib_dict.keys())\n",
    "    for i in range(max_fib_dict+1, steps+1):\n",
    "        fib_dict[i] = fib_dict[i-1] + i\n",
    "    \n",
    "    return fib_dict[steps]\n"
   ]
  },
  {
   "cell_type": "code",
   "execution_count": null,
   "id": "0ec7e4db-2409-4eda-81a6-d9b7da467add",
   "metadata": {
    "execution": {
     "iopub.status.busy": "2021-12-15T05:51:47.620379Z",
     "iopub.status.idle": "2021-12-15T05:51:47.620672Z",
     "shell.execute_reply": "2021-12-15T05:51:47.620550Z",
     "shell.execute_reply.started": "2021-12-15T05:51:47.620538Z"
    },
    "tags": []
   },
   "outputs": [],
   "source": [
    "def solution_1(data):\n",
    "    lowest_fuel = float(\"inf\")\n",
    "\n",
    "    for i in range(min(data), max(data)+1):\n",
    "        fuel_cost = 0\n",
    "        for crab in data:\n",
    "            fuel_cost += abs(crab - i)\n",
    "        \n",
    "        if fuel_cost < lowest_fuel:\n",
    "            lowest_fuel = fuel_cost\n",
    "        else:\n",
    "            return lowest_fuel\n",
    "        \n",
    "\n",
    "def solution_2(data):\n",
    "    lowest_fuel = float(\"inf\")\n",
    "\n",
    "    for i in range(min(data), max(data)+1):\n",
    "        fuel_cost = 0\n",
    "        for crab in data:\n",
    "            fuel_cost += find_fib_fuel(abs(crab - i))\n",
    "        \n",
    "        if fuel_cost < lowest_fuel:\n",
    "            lowest_fuel = fuel_cost\n",
    "        else:\n",
    "            return lowest_fuel"
   ]
  },
  {
   "cell_type": "code",
   "execution_count": null,
   "id": "3493ccec-9149-4802-99c4-988c4dc73b9b",
   "metadata": {
    "execution": {
     "iopub.status.busy": "2021-12-15T05:51:47.621934Z",
     "iopub.status.idle": "2021-12-15T05:51:47.622280Z",
     "shell.execute_reply": "2021-12-15T05:51:47.622117Z",
     "shell.execute_reply.started": "2021-12-15T05:51:47.622103Z"
    },
    "tags": []
   },
   "outputs": [],
   "source": [
    "print(solution_1(cleaned_data))  # 343605\n",
    "print(solution_2(cleaned_data))  # 96744904"
   ]
  }
 ],
 "metadata": {
  "kernelspec": {
   "display_name": "sally_gg",
   "language": "python",
   "name": "sally_gg"
  },
  "language_info": {
   "codemirror_mode": {
    "name": "ipython",
    "version": 3
   },
   "file_extension": ".py",
   "mimetype": "text/x-python",
   "name": "python",
   "nbconvert_exporter": "python",
   "pygments_lexer": "ipython3",
   "version": "3.9.6"
  },
  "widgets": {
   "application/vnd.jupyter.widget-state+json": {
    "state": {},
    "version_major": 2,
    "version_minor": 0
   }
  }
 },
 "nbformat": 4,
 "nbformat_minor": 5
}
