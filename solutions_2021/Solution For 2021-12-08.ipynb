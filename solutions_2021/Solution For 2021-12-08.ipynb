{
 "cells": [
  {
   "cell_type": "code",
   "execution_count": 1,
   "id": "21553c95-c140-46a1-b853-47aede988ec3",
   "metadata": {
    "execution": {
     "iopub.execute_input": "2021-12-15T06:07:40.185129Z",
     "iopub.status.busy": "2021-12-15T06:07:40.184884Z",
     "iopub.status.idle": "2021-12-15T06:07:40.190217Z",
     "shell.execute_reply": "2021-12-15T06:07:40.189094Z",
     "shell.execute_reply.started": "2021-12-15T06:07:40.185102Z"
    },
    "tags": []
   },
   "outputs": [],
   "source": [
    "input_location = \"inputs/input_20211208.txt\"\n",
    "\n",
    "with open(input_location) as f:\n",
    "    data = f.read().splitlines()"
   ]
  },
  {
   "cell_type": "code",
   "execution_count": 2,
   "id": "df7342bb-d0b5-4c52-a967-fa4a7abb5276",
   "metadata": {
    "execution": {
     "iopub.execute_input": "2021-12-15T06:07:40.191360Z",
     "iopub.status.busy": "2021-12-15T06:07:40.191138Z",
     "iopub.status.idle": "2021-12-15T06:07:40.196486Z",
     "shell.execute_reply": "2021-12-15T06:07:40.194493Z",
     "shell.execute_reply.started": "2021-12-15T06:07:40.191345Z"
    },
    "tags": []
   },
   "outputs": [],
   "source": [
    "special_digits = {2:1, 4:4, 3:7, 7:8} # key: how many on, value: digit\n",
    "\n",
    "def decode_signal(signal_bool_dict, output):\n",
    "    output_num = list(signal_bool_dict.keys())\n",
    "    output_signal = list(signal_bool_dict.values())\n",
    "    \n",
    "    return str(output_num[output_signal.index(output)])"
   ]
  },
  {
   "cell_type": "code",
   "execution_count": 3,
   "id": "669e8682-b644-4fca-8bfa-ec73e794c3cd",
   "metadata": {
    "execution": {
     "iopub.execute_input": "2021-12-15T06:07:40.198915Z",
     "iopub.status.busy": "2021-12-15T06:07:40.198396Z",
     "iopub.status.idle": "2021-12-15T06:07:40.209304Z",
     "shell.execute_reply": "2021-12-15T06:07:40.207774Z",
     "shell.execute_reply.started": "2021-12-15T06:07:40.198883Z"
    },
    "tags": []
   },
   "outputs": [],
   "source": [
    "\n",
    "def solution_1(data):\n",
    "    digit_count_dict = {1:0, 4:0, 7:0, 8:0}\n",
    "    for row in data:\n",
    "        entry, output = row.split(\"|\")\n",
    "        for signal in output.split(\" \"):\n",
    "            signal_on_count = len(signal)\n",
    "            if signal_on_count in special_digits:\n",
    "                digit_count_dict[special_digits[signal_on_count]] += 1\n",
    "    return sum(digit_count_dict.values())\n",
    "\n",
    "def solution_2(data):\n",
    "    final_output_sum = 0\n",
    "    for row in data:\n",
    "        signal_bool_dict = {}\n",
    "        entry, outputs = row.split(\" | \")\n",
    "        entry_list = entry.split(\" \") \n",
    "\n",
    "        # do special digits first (1, 4, 7, 8)\n",
    "        for signal in entry_list[:]:\n",
    "            if len(signal) in special_digits:\n",
    "                signal_bool_dict[special_digits[len(signal)]] = set(signal)\n",
    "                entry_list.remove(signal)\n",
    "        \n",
    "        # get the 0 and 6 and 9\n",
    "        for signal in entry_list[:]:\n",
    "            if len(signal) == 6:\n",
    "                if signal_bool_dict[4].issubset(set(signal)):\n",
    "                    signal_bool_dict[9] = set(signal)\n",
    "                elif signal_bool_dict[1].issubset(set(signal)):\n",
    "                    signal_bool_dict[0] = set(signal)\n",
    "                else:\n",
    "                    signal_bool_dict[6] = set(signal)\n",
    "                entry_list.remove(signal)\n",
    "        \n",
    "        # get the rest\n",
    "        for signal in entry_list[:]:\n",
    "            if set(signal).issubset(signal_bool_dict[6]):\n",
    "                signal_bool_dict[5] = set(signal)\n",
    "            elif signal_bool_dict[1].issubset(set(signal)):\n",
    "                signal_bool_dict[3] = set(signal)\n",
    "            else:\n",
    "                signal_bool_dict[2] = set(signal)\n",
    "        \n",
    "        # now get the output\n",
    "        final_output = \"\"\n",
    "        for output in outputs.split(\" \"):\n",
    "            final_output += decode_signal(signal_bool_dict, set(output))\n",
    "            \n",
    "        final_output_sum += int(final_output)\n",
    "        \n",
    "    return final_output_sum"
   ]
  },
  {
   "cell_type": "code",
   "execution_count": 4,
   "id": "fc72e85a-1ec9-4d05-accc-3e5c6182018f",
   "metadata": {
    "execution": {
     "iopub.execute_input": "2021-12-15T06:07:40.210958Z",
     "iopub.status.busy": "2021-12-15T06:07:40.210529Z",
     "iopub.status.idle": "2021-12-15T06:07:40.219438Z",
     "shell.execute_reply": "2021-12-15T06:07:40.218769Z",
     "shell.execute_reply.started": "2021-12-15T06:07:40.210937Z"
    },
    "tags": []
   },
   "outputs": [
    {
     "name": "stdout",
     "output_type": "stream",
     "text": [
      "493\n",
      "1010460\n"
     ]
    }
   ],
   "source": [
    "print(solution_1(data))   # 493\n",
    "print(solution_2(data))   # 1010460"
   ]
  }
 ],
 "metadata": {
  "kernelspec": {
   "display_name": "sally_gg",
   "language": "python",
   "name": "sally_gg"
  },
  "language_info": {
   "codemirror_mode": {
    "name": "ipython",
    "version": 3
   },
   "file_extension": ".py",
   "mimetype": "text/x-python",
   "name": "python",
   "nbconvert_exporter": "python",
   "pygments_lexer": "ipython3",
   "version": "3.9.6"
  },
  "widgets": {
   "application/vnd.jupyter.widget-state+json": {
    "state": {},
    "version_major": 2,
    "version_minor": 0
   }
  }
 },
 "nbformat": 4,
 "nbformat_minor": 5
}
