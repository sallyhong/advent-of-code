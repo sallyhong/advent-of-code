{
 "cells": [
  {
   "cell_type": "code",
   "execution_count": 1,
   "id": "21553c95-c140-46a1-b853-47aede988ec3",
   "metadata": {
    "execution": {
     "iopub.execute_input": "2021-12-21T20:48:34.162143Z",
     "iopub.status.busy": "2021-12-21T20:48:34.161819Z",
     "iopub.status.idle": "2021-12-21T20:48:34.165439Z",
     "shell.execute_reply": "2021-12-21T20:48:34.164931Z",
     "shell.execute_reply.started": "2021-12-21T20:48:34.162118Z"
    },
    "tags": []
   },
   "outputs": [],
   "source": [
    "input_location = \"inputs/input_20211213.txt\"\n",
    "\n",
    "with open(input_location) as f:\n",
    "    data = f.read().splitlines()"
   ]
  },
  {
   "cell_type": "code",
   "execution_count": 2,
   "id": "84181e4f-8591-4c28-abde-f11621d80ff9",
   "metadata": {
    "execution": {
     "iopub.execute_input": "2021-12-21T20:48:34.166652Z",
     "iopub.status.busy": "2021-12-21T20:48:34.166382Z",
     "iopub.status.idle": "2021-12-21T20:48:34.180248Z",
     "shell.execute_reply": "2021-12-21T20:48:34.179598Z",
     "shell.execute_reply.started": "2021-12-21T20:48:34.166626Z"
    },
    "tags": []
   },
   "outputs": [],
   "source": [
    "########## HELPER FUNCTIONS ##########\n",
    "\n",
    "\n",
    "def parse_data(data):\n",
    "    coordinates, fold_directions = [], []\n",
    "    for line in data:\n",
    "        if \",\" in line:\n",
    "            x, y = line.split(\",\")\n",
    "            coordinates.append([int(x), int(y)])\n",
    "        elif \"=\" in line:\n",
    "            axis, line_num = line.split(\" \")[-1].split(\"=\")\n",
    "            fold_directions.append([axis, int(line_num)])\n",
    "    return coordinates, fold_directions\n",
    "\n",
    "\n",
    "def fold_paper(coordinates, fold_direction):\n",
    "    \"\"\"\n",
    "    coordinates : input coordinates\n",
    "    fold_direction : a pair that lists direction and line num (example: ['x', 5])\n",
    "    \"\"\"\n",
    "\n",
    "    paper_x_max = max([coordinate[0] for coordinate in coordinates])\n",
    "    paper_y_max = max([coordinate[1] for coordinate in coordinates])\n",
    "\n",
    "    new_coordinates = []\n",
    "\n",
    "    if fold_direction[0] == \"y\":\n",
    "        for (x, y) in coordinates:\n",
    "            if y > fold_direction[1]:\n",
    "                y = -y + (2 * fold_direction[1])\n",
    "            if [x, y] not in new_coordinates:\n",
    "                new_coordinates.append([x, y])\n",
    "    else:\n",
    "        for (x, y) in coordinates:\n",
    "            if x > fold_direction[1]:\n",
    "                x = -x + (2 * fold_direction[1])\n",
    "            if [x, y] not in new_coordinates:\n",
    "                new_coordinates.append([x, y])\n",
    "\n",
    "    return new_coordinates\n",
    "\n",
    "\n",
    "def print_paper(coordinates, default_char=\".\"):\n",
    "\n",
    "    paper_x_max = max([coordinate[0] for coordinate in coordinates])\n",
    "    paper_y_max = max([coordinate[1] for coordinate in coordinates])\n",
    "\n",
    "    for y in range(0, paper_y_max + 1):\n",
    "        row_str = \"\"\n",
    "        for x in range(0, paper_x_max + 1):\n",
    "            if [x, y] in coordinates:\n",
    "                row_str += \"#\"\n",
    "            else:\n",
    "                row_str += \".\"\n",
    "        print(row_str)"
   ]
  },
  {
   "cell_type": "code",
   "execution_count": 3,
   "id": "f30effd4-7f98-4192-aa6c-d4fe941713cc",
   "metadata": {
    "execution": {
     "iopub.execute_input": "2021-12-21T20:48:34.181543Z",
     "iopub.status.busy": "2021-12-21T20:48:34.181189Z",
     "iopub.status.idle": "2021-12-21T20:48:34.196270Z",
     "shell.execute_reply": "2021-12-21T20:48:34.195858Z",
     "shell.execute_reply.started": "2021-12-21T20:48:34.181524Z"
    },
    "tags": []
   },
   "outputs": [],
   "source": [
    "########## SOLUTION ##########\n",
    "\n",
    "\n",
    "def solution_1(data, fold_once=False):\n",
    "    coordinates, fold_directions = parse_data(data)\n",
    "\n",
    "    for fold_direction in fold_directions:\n",
    "        coordinates = fold_paper(coordinates, fold_direction)\n",
    "        if fold_once:\n",
    "            break\n",
    "\n",
    "    return coordinates\n",
    "\n",
    "\n",
    "def solution_2(data):\n",
    "    coordinates = solution_1(data)\n",
    "    print_paper(coordinates)\n",
    "\n",
    "    return None"
   ]
  },
  {
   "cell_type": "code",
   "execution_count": 4,
   "id": "d82280cd-b0aa-4123-becf-8fe2a4859689",
   "metadata": {
    "execution": {
     "iopub.execute_input": "2021-12-21T20:48:34.197364Z",
     "iopub.status.busy": "2021-12-21T20:48:34.197163Z",
     "iopub.status.idle": "2021-12-21T20:48:34.235717Z",
     "shell.execute_reply": "2021-12-21T20:48:34.235244Z",
     "shell.execute_reply.started": "2021-12-21T20:48:34.197348Z"
    },
    "tags": []
   },
   "outputs": [
    {
     "name": "stdout",
     "output_type": "stream",
     "text": [
      "682\n",
      "####..##...##..#..#.###..####.#..#.####\n",
      "#....#..#.#..#.#..#.#..#....#.#..#.#...\n",
      "###..#..#.#....#..#.#..#...#..####.###.\n",
      "#....####.#.##.#..#.###...#...#..#.#...\n",
      "#....#..#.#..#.#..#.#.#..#....#..#.#...\n",
      "#....#..#..###..##..#..#.####.#..#.####\n"
     ]
    }
   ],
   "source": [
    "########## OUTPUT ##########\n",
    "\n",
    "print(len(solution_1(data, True)))  # 682\n",
    "solution_2(data)  # FAGURZHE"
   ]
  }
 ],
 "metadata": {
  "kernelspec": {
   "display_name": "sally_gg",
   "language": "python",
   "name": "sally_gg"
  },
  "language_info": {
   "codemirror_mode": {
    "name": "ipython",
    "version": 3
   },
   "file_extension": ".py",
   "mimetype": "text/x-python",
   "name": "python",
   "nbconvert_exporter": "python",
   "pygments_lexer": "ipython3",
   "version": "3.9.6"
  },
  "widgets": {
   "application/vnd.jupyter.widget-state+json": {
    "state": {},
    "version_major": 2,
    "version_minor": 0
   }
  }
 },
 "nbformat": 4,
 "nbformat_minor": 5
}
