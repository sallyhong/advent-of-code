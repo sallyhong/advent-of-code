{
 "cells": [
  {
   "cell_type": "code",
   "execution_count": 1,
   "id": "21553c95-c140-46a1-b853-47aede988ec3",
   "metadata": {
    "execution": {
     "iopub.execute_input": "2021-12-15T03:09:06.070440Z",
     "iopub.status.busy": "2021-12-15T03:09:06.069870Z",
     "iopub.status.idle": "2021-12-15T03:09:06.076254Z",
     "shell.execute_reply": "2021-12-15T03:09:06.075701Z",
     "shell.execute_reply.started": "2021-12-15T03:09:06.070416Z"
    },
    "tags": []
   },
   "outputs": [],
   "source": [
    "input_location = \"inputs/input_20211206.txt\"\n",
    "\n",
    "with open(input_location) as f:\n",
    "    data = f.read().splitlines()\n",
    "\n",
    "from collections import Counter"
   ]
  },
  {
   "cell_type": "code",
   "execution_count": 2,
   "id": "ea97b59a-b47c-4f3b-a80c-84e0660197bb",
   "metadata": {
    "execution": {
     "iopub.execute_input": "2021-12-15T03:09:06.077448Z",
     "iopub.status.busy": "2021-12-15T03:09:06.077120Z",
     "iopub.status.idle": "2021-12-15T03:09:06.083588Z",
     "shell.execute_reply": "2021-12-15T03:09:06.082873Z",
     "shell.execute_reply.started": "2021-12-15T03:09:06.077429Z"
    },
    "tags": []
   },
   "outputs": [],
   "source": [
    "def clean_data(data):\n",
    "    data = [int(x) for x in data[0].split(\",\")]\n",
    "    return data\n",
    "\n",
    "def fish_count_one_day(fish_dict):\n",
    "    fish_dict_post = {}\n",
    "    for key, value in fish_dict.items():\n",
    "        fish_dict_post[key-1] = value\n",
    "    \n",
    "    if -1 in fish_dict_post:\n",
    "        zero_timer_fish = fish_dict_post.pop(-1)\n",
    "        if 6 in fish_dict_post:\n",
    "            fish_dict_post[6] += zero_timer_fish\n",
    "        else:\n",
    "            fish_dict_post[6] = zero_timer_fish\n",
    "        if 8 in fish_dict_post:\n",
    "            fish_dict_post[8] += zero_timer_fish\n",
    "        else:\n",
    "            fish_dict_post[8] = zero_timer_fish\n",
    "\n",
    "    return fish_dict_post\n",
    "    "
   ]
  },
  {
   "cell_type": "code",
   "execution_count": 3,
   "id": "0ad5a81b-390d-4cca-953c-eb908ef89265",
   "metadata": {
    "execution": {
     "iopub.execute_input": "2021-12-15T03:09:06.085188Z",
     "iopub.status.busy": "2021-12-15T03:09:06.084889Z",
     "iopub.status.idle": "2021-12-15T03:09:06.091270Z",
     "shell.execute_reply": "2021-12-15T03:09:06.090580Z",
     "shell.execute_reply.started": "2021-12-15T03:09:06.085158Z"
    },
    "tags": []
   },
   "outputs": [],
   "source": [
    "def solution_1(data, days):\n",
    "    fish_dict = Counter(data)\n",
    "    for day in range(1, days+1):\n",
    "        fish_dict = fish_count_one_day(fish_dict)\n",
    "    return sum(fish_dict.values())"
   ]
  },
  {
   "cell_type": "code",
   "execution_count": 4,
   "id": "ef26ce33-81ac-45e2-a2cd-8a117eb35e74",
   "metadata": {
    "execution": {
     "iopub.execute_input": "2021-12-15T03:09:06.092299Z",
     "iopub.status.busy": "2021-12-15T03:09:06.092097Z",
     "iopub.status.idle": "2021-12-15T03:09:06.096877Z",
     "shell.execute_reply": "2021-12-15T03:09:06.096072Z",
     "shell.execute_reply.started": "2021-12-15T03:09:06.092281Z"
    },
    "tags": []
   },
   "outputs": [
    {
     "name": "stdout",
     "output_type": "stream",
     "text": [
      "343441\n",
      "1569108373832\n"
     ]
    }
   ],
   "source": [
    "data = clean_data(data)\n",
    "\n",
    "print(solution_1(data, 80))   #343441\n",
    "print(solution_1(data, 256))  #1569108373832"
   ]
  }
 ],
 "metadata": {
  "kernelspec": {
   "display_name": "sally_gg",
   "language": "python",
   "name": "sally_gg"
  },
  "language_info": {
   "codemirror_mode": {
    "name": "ipython",
    "version": 3
   },
   "file_extension": ".py",
   "mimetype": "text/x-python",
   "name": "python",
   "nbconvert_exporter": "python",
   "pygments_lexer": "ipython3",
   "version": "3.9.6"
  },
  "widgets": {
   "application/vnd.jupyter.widget-state+json": {
    "state": {},
    "version_major": 2,
    "version_minor": 0
   }
  }
 },
 "nbformat": 4,
 "nbformat_minor": 5
}
